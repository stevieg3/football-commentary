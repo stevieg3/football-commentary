{
 "cells": [
  {
   "cell_type": "markdown",
   "metadata": {},
   "source": [
    "# NLP with GloVe embeddings"
   ]
  },
  {
   "cell_type": "markdown",
   "metadata": {},
   "source": [
    "## Set-up"
   ]
  },
  {
   "cell_type": "code",
   "execution_count": 2,
   "metadata": {},
   "outputs": [],
   "source": [
    "import os\n",
    "import itertools\n",
    "\n",
    "import pandas as pd\n",
    "import numpy as np\n",
    "import matplotlib.pyplot as plt\n",
    "import seaborn as sns\n",
    "import torch\n",
    "import nltk\n",
    "from nltk.tokenize import word_tokenize"
   ]
  },
  {
   "cell_type": "code",
   "execution_count": 3,
   "metadata": {},
   "outputs": [],
   "source": [
    "os.chdir('..')"
   ]
  },
  {
   "cell_type": "code",
   "execution_count": 4,
   "metadata": {},
   "outputs": [
    {
     "name": "stderr",
     "output_type": "stream",
     "text": [
      "[nltk_data] Downloading package punkt to\n",
      "[nltk_data]     /Users/stevengeorge/nltk_data...\n",
      "[nltk_data]   Package punkt is already up-to-date!\n"
     ]
    },
    {
     "data": {
      "text/plain": [
       "True"
      ]
     },
     "execution_count": 4,
     "metadata": {},
     "output_type": "execute_result"
    }
   ],
   "source": [
    "nltk.download('punkt')"
   ]
  },
  {
   "cell_type": "markdown",
   "metadata": {},
   "source": [
    "## Load pre-trained GloVe embeddings"
   ]
  },
  {
   "cell_type": "code",
   "execution_count": 5,
   "metadata": {},
   "outputs": [],
   "source": [
    "word_to_vector = {}\n",
    "with open('data/external/GloVe/glove.6B/glove.6B.100d.txt', \"r\") as f:\n",
    "    # Each line starts with the word/character followed by the 100d vector representation\n",
    "    for line in f:  # itertools.islice(f, 5):\n",
    "        \n",
    "        # Split by whitespace:\n",
    "        components = line.split()\n",
    "        \n",
    "        word = components[0]\n",
    "        vector_values = components[1:]\n",
    "        \n",
    "        vector_array = np.array(vector_values, dtype=np.float64)  # Convert vector to numpy array\n",
    "        \n",
    "        # Add to dictionary\n",
    "        word_to_vector[word] = vector_array"
   ]
  },
  {
   "cell_type": "markdown",
   "metadata": {},
   "source": [
    "## Load training and dev data"
   ]
  },
  {
   "cell_type": "code",
   "execution_count": 6,
   "metadata": {},
   "outputs": [
    {
     "name": "stdout",
     "output_type": "stream",
     "text": [
      "(749640, 13)\n",
      "(92689, 13)\n"
     ]
    }
   ],
   "source": [
    "train = pd.read_parquet('data/processed/train.parquet')\n",
    "print(train.shape)\n",
    "\n",
    "dev = pd.read_parquet('data/processed/dev.parquet')\n",
    "print(dev.shape)"
   ]
  },
  {
   "cell_type": "code",
   "execution_count": 7,
   "metadata": {},
   "outputs": [
    {
     "data": {
      "text/html": [
       "<div>\n",
       "<style scoped>\n",
       "    .dataframe tbody tr th:only-of-type {\n",
       "        vertical-align: middle;\n",
       "    }\n",
       "\n",
       "    .dataframe tbody tr th {\n",
       "        vertical-align: top;\n",
       "    }\n",
       "\n",
       "    .dataframe thead th {\n",
       "        text-align: right;\n",
       "    }\n",
       "</style>\n",
       "<table border=\"1\" class=\"dataframe\">\n",
       "  <thead>\n",
       "    <tr style=\"text-align: right;\">\n",
       "      <th></th>\n",
       "      <th>id_odsp</th>\n",
       "      <th>sort_order</th>\n",
       "      <th>time</th>\n",
       "      <th>text</th>\n",
       "      <th>event_type</th>\n",
       "      <th>event_team</th>\n",
       "      <th>opponent</th>\n",
       "      <th>is_goal</th>\n",
       "      <th>assist_method</th>\n",
       "      <th>fast_break</th>\n",
       "      <th>season</th>\n",
       "      <th>country</th>\n",
       "      <th>event_team_was_home</th>\n",
       "    </tr>\n",
       "  </thead>\n",
       "  <tbody>\n",
       "    <tr>\n",
       "      <th>0</th>\n",
       "      <td>UFot0hit/</td>\n",
       "      <td>1</td>\n",
       "      <td>2</td>\n",
       "      <td>Attempt missed. Mladen Petric (Hamburg) left f...</td>\n",
       "      <td>Attempt</td>\n",
       "      <td>Hamburg SV</td>\n",
       "      <td>Borussia Dortmund</td>\n",
       "      <td>0</td>\n",
       "      <td>Pass</td>\n",
       "      <td>0</td>\n",
       "      <td>2012</td>\n",
       "      <td>germany</td>\n",
       "      <td>0</td>\n",
       "    </tr>\n",
       "    <tr>\n",
       "      <th>1</th>\n",
       "      <td>UFot0hit/</td>\n",
       "      <td>2</td>\n",
       "      <td>4</td>\n",
       "      <td>Corner,  Borussia Dortmund. Conceded by Dennis...</td>\n",
       "      <td>Corner</td>\n",
       "      <td>Borussia Dortmund</td>\n",
       "      <td>Hamburg SV</td>\n",
       "      <td>0</td>\n",
       "      <td>None</td>\n",
       "      <td>0</td>\n",
       "      <td>2012</td>\n",
       "      <td>germany</td>\n",
       "      <td>1</td>\n",
       "    </tr>\n",
       "    <tr>\n",
       "      <th>2</th>\n",
       "      <td>UFot0hit/</td>\n",
       "      <td>3</td>\n",
       "      <td>4</td>\n",
       "      <td>Corner,  Borussia Dortmund. Conceded by Heiko ...</td>\n",
       "      <td>Corner</td>\n",
       "      <td>Borussia Dortmund</td>\n",
       "      <td>Hamburg SV</td>\n",
       "      <td>0</td>\n",
       "      <td>None</td>\n",
       "      <td>0</td>\n",
       "      <td>2012</td>\n",
       "      <td>germany</td>\n",
       "      <td>1</td>\n",
       "    </tr>\n",
       "    <tr>\n",
       "      <th>3</th>\n",
       "      <td>UFot0hit/</td>\n",
       "      <td>4</td>\n",
       "      <td>7</td>\n",
       "      <td>Foul by Sven Bender (Borussia Dortmund).</td>\n",
       "      <td>Foul</td>\n",
       "      <td>Borussia Dortmund</td>\n",
       "      <td>Hamburg SV</td>\n",
       "      <td>0</td>\n",
       "      <td>None</td>\n",
       "      <td>0</td>\n",
       "      <td>2012</td>\n",
       "      <td>germany</td>\n",
       "      <td>1</td>\n",
       "    </tr>\n",
       "    <tr>\n",
       "      <th>4</th>\n",
       "      <td>UFot0hit/</td>\n",
       "      <td>5</td>\n",
       "      <td>7</td>\n",
       "      <td>Gokhan Tore (Hamburg) wins a free kick in the ...</td>\n",
       "      <td>Free kick won</td>\n",
       "      <td>Hamburg SV</td>\n",
       "      <td>Borussia Dortmund</td>\n",
       "      <td>0</td>\n",
       "      <td>None</td>\n",
       "      <td>0</td>\n",
       "      <td>2012</td>\n",
       "      <td>germany</td>\n",
       "      <td>0</td>\n",
       "    </tr>\n",
       "  </tbody>\n",
       "</table>\n",
       "</div>"
      ],
      "text/plain": [
       "     id_odsp  sort_order  time  \\\n",
       "0  UFot0hit/           1     2   \n",
       "1  UFot0hit/           2     4   \n",
       "2  UFot0hit/           3     4   \n",
       "3  UFot0hit/           4     7   \n",
       "4  UFot0hit/           5     7   \n",
       "\n",
       "                                                text     event_type  \\\n",
       "0  Attempt missed. Mladen Petric (Hamburg) left f...        Attempt   \n",
       "1  Corner,  Borussia Dortmund. Conceded by Dennis...         Corner   \n",
       "2  Corner,  Borussia Dortmund. Conceded by Heiko ...         Corner   \n",
       "3           Foul by Sven Bender (Borussia Dortmund).           Foul   \n",
       "4  Gokhan Tore (Hamburg) wins a free kick in the ...  Free kick won   \n",
       "\n",
       "          event_team           opponent  is_goal assist_method  fast_break  \\\n",
       "0         Hamburg SV  Borussia Dortmund        0          Pass           0   \n",
       "1  Borussia Dortmund         Hamburg SV        0          None           0   \n",
       "2  Borussia Dortmund         Hamburg SV        0          None           0   \n",
       "3  Borussia Dortmund         Hamburg SV        0          None           0   \n",
       "4         Hamburg SV  Borussia Dortmund        0          None           0   \n",
       "\n",
       "   season  country  event_team_was_home  \n",
       "0    2012  germany                    0  \n",
       "1    2012  germany                    1  \n",
       "2    2012  germany                    1  \n",
       "3    2012  germany                    1  \n",
       "4    2012  germany                    0  "
      ]
     },
     "execution_count": 7,
     "metadata": {},
     "output_type": "execute_result"
    }
   ],
   "source": [
    "train.head()"
   ]
  },
  {
   "cell_type": "markdown",
   "metadata": {},
   "source": [
    "- Remove `time` and `event_team_was_home` for now but may want to add these back as they are not extracted from the text itself"
   ]
  },
  {
   "cell_type": "code",
   "execution_count": 8,
   "metadata": {},
   "outputs": [],
   "source": [
    "def process_data_for_nlp(df):\n",
    "    \n",
    "    df = df.copy()\n",
    "    \n",
    "    # Sort by event order\n",
    "    df.sort_values(['id_odsp', 'sort_order'], inplace=True)\n",
    "    # Create target\n",
    "    df['next_event_is_goal'] = df.groupby('id_odsp')['is_goal'].shift(-1)\n",
    "    # Drop redundant columns\n",
    "    df.drop(\n",
    "        columns=['sort_order', 'event_type', 'event_team', 'opponent', 'is_goal', 'assist_method', 'fast_break', 'season', 'country', 'event_team_was_home', 'time'], \n",
    "        inplace=True\n",
    "    )\n",
    "    return df"
   ]
  },
  {
   "cell_type": "code",
   "execution_count": 9,
   "metadata": {},
   "outputs": [],
   "source": [
    "train_p = process_data_for_nlp(train)\n",
    "dev_p = process_data_for_nlp(dev)"
   ]
  },
  {
   "cell_type": "code",
   "execution_count": 10,
   "metadata": {},
   "outputs": [
    {
     "data": {
      "text/html": [
       "<div>\n",
       "<style scoped>\n",
       "    .dataframe tbody tr th:only-of-type {\n",
       "        vertical-align: middle;\n",
       "    }\n",
       "\n",
       "    .dataframe tbody tr th {\n",
       "        vertical-align: top;\n",
       "    }\n",
       "\n",
       "    .dataframe thead th {\n",
       "        text-align: right;\n",
       "    }\n",
       "</style>\n",
       "<table border=\"1\" class=\"dataframe\">\n",
       "  <thead>\n",
       "    <tr style=\"text-align: right;\">\n",
       "      <th></th>\n",
       "      <th>id_odsp</th>\n",
       "      <th>text</th>\n",
       "      <th>next_event_is_goal</th>\n",
       "    </tr>\n",
       "  </thead>\n",
       "  <tbody>\n",
       "    <tr>\n",
       "      <th>516547</th>\n",
       "      <td>004f4ING/</td>\n",
       "      <td>Bafetimbi Gomis (Swansea City) wins a free kic...</td>\n",
       "      <td>0.0</td>\n",
       "    </tr>\n",
       "    <tr>\n",
       "      <th>516548</th>\n",
       "      <td>004f4ING/</td>\n",
       "      <td>Foul by Maya Yoshida (Southampton).</td>\n",
       "      <td>0.0</td>\n",
       "    </tr>\n",
       "    <tr>\n",
       "      <th>516549</th>\n",
       "      <td>004f4ING/</td>\n",
       "      <td>Dusan Tadic (Southampton) wins a free kick on ...</td>\n",
       "      <td>0.0</td>\n",
       "    </tr>\n",
       "    <tr>\n",
       "      <th>516550</th>\n",
       "      <td>004f4ING/</td>\n",
       "      <td>Foul by Neil Taylor (Swansea City).</td>\n",
       "      <td>0.0</td>\n",
       "    </tr>\n",
       "    <tr>\n",
       "      <th>516551</th>\n",
       "      <td>004f4ING/</td>\n",
       "      <td>Attempt saved. James Ward-Prowse (Southampton)...</td>\n",
       "      <td>0.0</td>\n",
       "    </tr>\n",
       "  </tbody>\n",
       "</table>\n",
       "</div>"
      ],
      "text/plain": [
       "          id_odsp                                               text  \\\n",
       "516547  004f4ING/  Bafetimbi Gomis (Swansea City) wins a free kic...   \n",
       "516548  004f4ING/                Foul by Maya Yoshida (Southampton).   \n",
       "516549  004f4ING/  Dusan Tadic (Southampton) wins a free kick on ...   \n",
       "516550  004f4ING/                Foul by Neil Taylor (Swansea City).   \n",
       "516551  004f4ING/  Attempt saved. James Ward-Prowse (Southampton)...   \n",
       "\n",
       "        next_event_is_goal  \n",
       "516547                 0.0  \n",
       "516548                 0.0  \n",
       "516549                 0.0  \n",
       "516550                 0.0  \n",
       "516551                 0.0  "
      ]
     },
     "execution_count": 10,
     "metadata": {},
     "output_type": "execute_result"
    }
   ],
   "source": [
    "train_p.head()"
   ]
  },
  {
   "cell_type": "code",
   "execution_count": 11,
   "metadata": {},
   "outputs": [
    {
     "data": {
      "text/html": [
       "<div>\n",
       "<style scoped>\n",
       "    .dataframe tbody tr th:only-of-type {\n",
       "        vertical-align: middle;\n",
       "    }\n",
       "\n",
       "    .dataframe tbody tr th {\n",
       "        vertical-align: top;\n",
       "    }\n",
       "\n",
       "    .dataframe thead th {\n",
       "        text-align: right;\n",
       "    }\n",
       "</style>\n",
       "<table border=\"1\" class=\"dataframe\">\n",
       "  <thead>\n",
       "    <tr style=\"text-align: right;\">\n",
       "      <th></th>\n",
       "      <th>id_odsp</th>\n",
       "      <th>text</th>\n",
       "      <th>next_event_is_goal</th>\n",
       "    </tr>\n",
       "  </thead>\n",
       "  <tbody>\n",
       "    <tr>\n",
       "      <th>61337</th>\n",
       "      <td>00nmICd9/</td>\n",
       "      <td>Foul by Juan Manuel FalcA³n (Metz).</td>\n",
       "      <td>0.0</td>\n",
       "    </tr>\n",
       "    <tr>\n",
       "      <th>61338</th>\n",
       "      <td>00nmICd9/</td>\n",
       "      <td>TiemouA© Bakayoko (Monaco) wins a free kick in...</td>\n",
       "      <td>0.0</td>\n",
       "    </tr>\n",
       "    <tr>\n",
       "      <th>61339</th>\n",
       "      <td>00nmICd9/</td>\n",
       "      <td>Foul by Anthony Martial (Monaco).</td>\n",
       "      <td>0.0</td>\n",
       "    </tr>\n",
       "    <tr>\n",
       "      <th>61340</th>\n",
       "      <td>00nmICd9/</td>\n",
       "      <td>Sylvain Marchal (Metz) wins a free kick in the...</td>\n",
       "      <td>0.0</td>\n",
       "    </tr>\n",
       "    <tr>\n",
       "      <th>61341</th>\n",
       "      <td>00nmICd9/</td>\n",
       "      <td>Foul by Cheick Doukoure (Metz).</td>\n",
       "      <td>0.0</td>\n",
       "    </tr>\n",
       "  </tbody>\n",
       "</table>\n",
       "</div>"
      ],
      "text/plain": [
       "         id_odsp                                               text  \\\n",
       "61337  00nmICd9/                Foul by Juan Manuel FalcA³n (Metz).   \n",
       "61338  00nmICd9/  TiemouA© Bakayoko (Monaco) wins a free kick in...   \n",
       "61339  00nmICd9/                  Foul by Anthony Martial (Monaco).   \n",
       "61340  00nmICd9/  Sylvain Marchal (Metz) wins a free kick in the...   \n",
       "61341  00nmICd9/                    Foul by Cheick Doukoure (Metz).   \n",
       "\n",
       "       next_event_is_goal  \n",
       "61337                 0.0  \n",
       "61338                 0.0  \n",
       "61339                 0.0  \n",
       "61340                 0.0  \n",
       "61341                 0.0  "
      ]
     },
     "execution_count": 11,
     "metadata": {},
     "output_type": "execute_result"
    }
   ],
   "source": [
    "dev_p.head()"
   ]
  },
  {
   "cell_type": "markdown",
   "metadata": {},
   "source": [
    "## Tokenize text commentary"
   ]
  },
  {
   "cell_type": "markdown",
   "metadata": {},
   "source": [
    "GloVe we are using is uncased so change all text to lower case:"
   ]
  },
  {
   "cell_type": "code",
   "execution_count": 12,
   "metadata": {},
   "outputs": [],
   "source": [
    "train_p['text_lowercase'] = train_p['text'].str.lower()"
   ]
  },
  {
   "cell_type": "code",
   "execution_count": 13,
   "metadata": {},
   "outputs": [
    {
     "name": "stdout",
     "output_type": "stream",
     "text": [
      "CPU times: user 1min 44s, sys: 325 ms, total: 1min 44s\n",
      "Wall time: 1min 44s\n"
     ]
    }
   ],
   "source": [
    "%%time\n",
    "train_p['text_split'] = train_p['text_lowercase'].apply(lambda x: word_tokenize(x))"
   ]
  },
  {
   "cell_type": "code",
   "execution_count": 14,
   "metadata": {},
   "outputs": [
    {
     "data": {
      "text/html": [
       "<div>\n",
       "<style scoped>\n",
       "    .dataframe tbody tr th:only-of-type {\n",
       "        vertical-align: middle;\n",
       "    }\n",
       "\n",
       "    .dataframe tbody tr th {\n",
       "        vertical-align: top;\n",
       "    }\n",
       "\n",
       "    .dataframe thead th {\n",
       "        text-align: right;\n",
       "    }\n",
       "</style>\n",
       "<table border=\"1\" class=\"dataframe\">\n",
       "  <thead>\n",
       "    <tr style=\"text-align: right;\">\n",
       "      <th></th>\n",
       "      <th>id_odsp</th>\n",
       "      <th>text</th>\n",
       "      <th>next_event_is_goal</th>\n",
       "      <th>text_lowercase</th>\n",
       "      <th>text_split</th>\n",
       "    </tr>\n",
       "  </thead>\n",
       "  <tbody>\n",
       "    <tr>\n",
       "      <th>516547</th>\n",
       "      <td>004f4ING/</td>\n",
       "      <td>Bafetimbi Gomis (Swansea City) wins a free kic...</td>\n",
       "      <td>0.0</td>\n",
       "      <td>bafetimbi gomis (swansea city) wins a free kic...</td>\n",
       "      <td>[bafetimbi, gomis, (, swansea, city, ), wins, ...</td>\n",
       "    </tr>\n",
       "    <tr>\n",
       "      <th>516548</th>\n",
       "      <td>004f4ING/</td>\n",
       "      <td>Foul by Maya Yoshida (Southampton).</td>\n",
       "      <td>0.0</td>\n",
       "      <td>foul by maya yoshida (southampton).</td>\n",
       "      <td>[foul, by, maya, yoshida, (, southampton, ), .]</td>\n",
       "    </tr>\n",
       "    <tr>\n",
       "      <th>516549</th>\n",
       "      <td>004f4ING/</td>\n",
       "      <td>Dusan Tadic (Southampton) wins a free kick on ...</td>\n",
       "      <td>0.0</td>\n",
       "      <td>dusan tadic (southampton) wins a free kick on ...</td>\n",
       "      <td>[dusan, tadic, (, southampton, ), wins, a, fre...</td>\n",
       "    </tr>\n",
       "    <tr>\n",
       "      <th>516550</th>\n",
       "      <td>004f4ING/</td>\n",
       "      <td>Foul by Neil Taylor (Swansea City).</td>\n",
       "      <td>0.0</td>\n",
       "      <td>foul by neil taylor (swansea city).</td>\n",
       "      <td>[foul, by, neil, taylor, (, swansea, city, ), .]</td>\n",
       "    </tr>\n",
       "    <tr>\n",
       "      <th>516551</th>\n",
       "      <td>004f4ING/</td>\n",
       "      <td>Attempt saved. James Ward-Prowse (Southampton)...</td>\n",
       "      <td>0.0</td>\n",
       "      <td>attempt saved. james ward-prowse (southampton)...</td>\n",
       "      <td>[attempt, saved, ., james, ward-prowse, (, sou...</td>\n",
       "    </tr>\n",
       "  </tbody>\n",
       "</table>\n",
       "</div>"
      ],
      "text/plain": [
       "          id_odsp                                               text  \\\n",
       "516547  004f4ING/  Bafetimbi Gomis (Swansea City) wins a free kic...   \n",
       "516548  004f4ING/                Foul by Maya Yoshida (Southampton).   \n",
       "516549  004f4ING/  Dusan Tadic (Southampton) wins a free kick on ...   \n",
       "516550  004f4ING/                Foul by Neil Taylor (Swansea City).   \n",
       "516551  004f4ING/  Attempt saved. James Ward-Prowse (Southampton)...   \n",
       "\n",
       "        next_event_is_goal                                     text_lowercase  \\\n",
       "516547                 0.0  bafetimbi gomis (swansea city) wins a free kic...   \n",
       "516548                 0.0                foul by maya yoshida (southampton).   \n",
       "516549                 0.0  dusan tadic (southampton) wins a free kick on ...   \n",
       "516550                 0.0                foul by neil taylor (swansea city).   \n",
       "516551                 0.0  attempt saved. james ward-prowse (southampton)...   \n",
       "\n",
       "                                               text_split  \n",
       "516547  [bafetimbi, gomis, (, swansea, city, ), wins, ...  \n",
       "516548    [foul, by, maya, yoshida, (, southampton, ), .]  \n",
       "516549  [dusan, tadic, (, southampton, ), wins, a, fre...  \n",
       "516550   [foul, by, neil, taylor, (, swansea, city, ), .]  \n",
       "516551  [attempt, saved, ., james, ward-prowse, (, sou...  "
      ]
     },
     "execution_count": 14,
     "metadata": {},
     "output_type": "execute_result"
    }
   ],
   "source": [
    "train_p.head()"
   ]
  },
  {
   "cell_type": "code",
   "execution_count": 15,
   "metadata": {},
   "outputs": [
    {
     "data": {
      "text/plain": [
       "50"
      ]
     },
     "execution_count": 15,
     "metadata": {},
     "output_type": "execute_result"
    }
   ],
   "source": [
    "max_length = train_p['text_split'].apply(len).max()\n",
    "max_length"
   ]
  },
  {
   "cell_type": "markdown",
   "metadata": {},
   "source": [
    "We assume that items which are not in the GloVe matrix are player names"
   ]
  },
  {
   "cell_type": "code",
   "execution_count": 16,
   "metadata": {},
   "outputs": [
    {
     "data": {
      "text/plain": [
       "749640"
      ]
     },
     "execution_count": 16,
     "metadata": {},
     "output_type": "execute_result"
    }
   ],
   "source": [
    "train_p.shape[0]"
   ]
  },
  {
   "cell_type": "code",
   "execution_count": 18,
   "metadata": {},
   "outputs": [],
   "source": [
    "def zero_pad(unpadded_matrix, max_length):\n",
    "    \n",
    "    if unpadded_matrix.shape[1] < max_length:\n",
    "        num_missing_items = max_length - unpadded_matrix.shape[1]\n",
    "        zero_pad = np.zeros((unpadded_matrix.shape[0], num_missing_items))\n",
    "\n",
    "    padded_matrix = np.concatenate((unpadded_matrix, zero_pad), axis=1)\n",
    "    \n",
    "    return padded_matrix"
   ]
  },
  {
   "cell_type": "code",
   "execution_count": 19,
   "metadata": {},
   "outputs": [],
   "source": [
    "m = train_p.shape[0]\n",
    "\n",
    "train_3d = np.zeros((50, m, 100))  # seq_len, examples, input_size\n",
    "\n",
    "unknown_items = []  # Keep track of items not in GloVe\n",
    "\n",
    "for i, row in train_p.iterrows():\n",
    "    text_split = row['text_split']  # List of items in text commentary\n",
    "    \n",
    "    vector_list = []\n",
    "    for item in text_split:\n",
    "        try:\n",
    "            word_vector = word_to_vector[item].reshape(100, 1)  # Get GloVe vector for item\n",
    "            vector_list.append(word_vector)\n",
    "        except KeyError:\n",
    "            unknown_items.append(item)  # Add to unknown list\n",
    "            word_vector = word_to_vector['name'].reshape(100, 1)  # Substitute unknown item with vector for 'name'\n",
    "    \n",
    "    text_commentary_matrix = np.concatenate(vector_list, axis=1)  # Concanenate vectors into a matrix of dim (100, num_items)\n",
    "    text_commentary_matrix = zero_pad(text_commentary_matrix, max_length=max_length)  # zero-padding to (100, 50)\n",
    "    \n",
    "    train_3d[:, i, :] = text_commentary_matrix.T  # Add to 3D input matrix"
   ]
  },
  {
   "cell_type": "code",
   "execution_count": 20,
   "metadata": {},
   "outputs": [
    {
     "data": {
      "text/plain": [
       "1887"
      ]
     },
     "execution_count": 20,
     "metadata": {},
     "output_type": "execute_result"
    }
   ],
   "source": [
    "len(set(unknown_items))"
   ]
  },
  {
   "cell_type": "code",
   "execution_count": 21,
   "metadata": {},
   "outputs": [
    {
     "data": {
      "text/plain": [
       "(50, 749640, 100)"
      ]
     },
     "execution_count": 21,
     "metadata": {},
     "output_type": "execute_result"
    }
   ],
   "source": [
    "train_3d.shape"
   ]
  },
  {
   "cell_type": "markdown",
   "metadata": {},
   "source": [
    "## Create PyTorch custom dataset\n",
    "\n",
    "https://pytorch.org/tutorials/beginner/data_loading_tutorial.html"
   ]
  },
  {
   "cell_type": "code",
   "execution_count": 22,
   "metadata": {},
   "outputs": [],
   "source": [
    "from torch.utils.data import Dataset"
   ]
  },
  {
   "cell_type": "code",
   "execution_count": 23,
   "metadata": {},
   "outputs": [],
   "source": [
    "class CommentaryDataset(Dataset):\n",
    "\n",
    "    def __init__(self, numpy_3d):\n",
    "        self.numpy_3d = numpy_3d\n",
    "\n",
    "    def __len__(self):\n",
    "        return self.numpy_3d.shape[1]\n",
    "\n",
    "    def __getitem__(self, idx):\n",
    "        if torch.is_tensor(idx):\n",
    "            idx = idx.tolist()\n",
    "        \n",
    "        return self.numpy_3d[:, idx, :]"
   ]
  },
  {
   "cell_type": "code",
   "execution_count": 24,
   "metadata": {},
   "outputs": [],
   "source": [
    "train_comm = CommentaryDataset(numpy_3d=train_3d)"
   ]
  },
  {
   "cell_type": "code",
   "execution_count": 25,
   "metadata": {},
   "outputs": [
    {
     "data": {
      "text/plain": [
       "<__main__.CommentaryDataset at 0x7f9356885ad0>"
      ]
     },
     "execution_count": 25,
     "metadata": {},
     "output_type": "execute_result"
    }
   ],
   "source": [
    "train_comm"
   ]
  },
  {
   "cell_type": "markdown",
   "metadata": {},
   "source": [
    "## References\n",
    "\n",
    "https://nlp.stanford.edu/projects/glove/"
   ]
  },
  {
   "cell_type": "markdown",
   "metadata": {},
   "source": [
    "## Questions\n",
    "\n",
    "- How to deal with player names when using pretrained weights?"
   ]
  },
  {
   "cell_type": "markdown",
   "metadata": {},
   "source": [
    "## TODO\n",
    "\n",
    "- Change CSV read method so name accents correctly imported"
   ]
  }
 ],
 "metadata": {
  "kernelspec": {
   "display_name": "Python 3",
   "language": "python",
   "name": "python3"
  },
  "language_info": {
   "codemirror_mode": {
    "name": "ipython",
    "version": 3
   },
   "file_extension": ".py",
   "mimetype": "text/x-python",
   "name": "python",
   "nbconvert_exporter": "python",
   "pygments_lexer": "ipython3",
   "version": "3.7.8"
  }
 },
 "nbformat": 4,
 "nbformat_minor": 4
}
