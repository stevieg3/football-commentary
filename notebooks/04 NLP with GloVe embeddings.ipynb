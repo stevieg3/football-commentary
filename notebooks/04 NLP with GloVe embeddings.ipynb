{
 "cells": [
  {
   "cell_type": "markdown",
   "metadata": {},
   "source": [
    "# NLP with GloVe embeddings"
   ]
  },
  {
   "cell_type": "markdown",
   "metadata": {},
   "source": [
    "## Set-up"
   ]
  },
  {
   "cell_type": "code",
   "execution_count": 1,
   "metadata": {},
   "outputs": [],
   "source": [
    "import os\n",
    "import itertools\n",
    "\n",
    "import pandas as pd\n",
    "import numpy as np\n",
    "import matplotlib.pyplot as plt\n",
    "import seaborn as sns\n",
    "import torch\n",
    "import nltk\n",
    "from nltk.tokenize import word_tokenize"
   ]
  },
  {
   "cell_type": "code",
   "execution_count": 2,
   "metadata": {},
   "outputs": [],
   "source": [
    "os.chdir('..')"
   ]
  },
  {
   "cell_type": "code",
   "execution_count": 3,
   "metadata": {},
   "outputs": [
    {
     "name": "stderr",
     "output_type": "stream",
     "text": [
      "[nltk_data] Downloading package punkt to\n",
      "[nltk_data]     /Users/stevengeorge/nltk_data...\n",
      "[nltk_data]   Package punkt is already up-to-date!\n"
     ]
    },
    {
     "data": {
      "text/plain": [
       "True"
      ]
     },
     "execution_count": 3,
     "metadata": {},
     "output_type": "execute_result"
    }
   ],
   "source": [
    "nltk.download('punkt')"
   ]
  },
  {
   "cell_type": "markdown",
   "metadata": {},
   "source": [
    "## Load pre-trained GloVe embeddings"
   ]
  },
  {
   "cell_type": "code",
   "execution_count": 4,
   "metadata": {},
   "outputs": [
    {
     "name": "stdout",
     "output_type": "stream",
     "text": [
      "CPU times: user 7.52 s, sys: 257 ms, total: 7.78 s\n",
      "Wall time: 7.83 s\n"
     ]
    }
   ],
   "source": [
    "%%time\n",
    "word_to_vector = {}\n",
    "with open('data/external/GloVe/glove.6B/glove.6B.100d.txt', \"r\") as f:\n",
    "    # Each line starts with the word/character followed by the 100d vector representation\n",
    "    for line in f:  # itertools.islice(f, 5):\n",
    "        \n",
    "        # Split by whitespace:\n",
    "        components = line.split()\n",
    "        \n",
    "        word = components[0]\n",
    "        vector_values = components[1:]\n",
    "        \n",
    "        vector_array = np.array(vector_values, dtype=np.float64)  # Convert vector to numpy array\n",
    "        \n",
    "        # Add to dictionary\n",
    "        word_to_vector[word] = vector_array"
   ]
  },
  {
   "cell_type": "markdown",
   "metadata": {},
   "source": [
    "## Load training and dev data"
   ]
  },
  {
   "cell_type": "code",
   "execution_count": 5,
   "metadata": {},
   "outputs": [
    {
     "name": "stdout",
     "output_type": "stream",
     "text": [
      "(749640, 13)\n",
      "(92689, 13)\n"
     ]
    }
   ],
   "source": [
    "train = pd.read_parquet('data/processed/train.parquet')\n",
    "print(train.shape)\n",
    "\n",
    "dev = pd.read_parquet('data/processed/dev.parquet')\n",
    "print(dev.shape)"
   ]
  },
  {
   "cell_type": "code",
   "execution_count": 6,
   "metadata": {},
   "outputs": [
    {
     "data": {
      "text/html": [
       "<div>\n",
       "<style scoped>\n",
       "    .dataframe tbody tr th:only-of-type {\n",
       "        vertical-align: middle;\n",
       "    }\n",
       "\n",
       "    .dataframe tbody tr th {\n",
       "        vertical-align: top;\n",
       "    }\n",
       "\n",
       "    .dataframe thead th {\n",
       "        text-align: right;\n",
       "    }\n",
       "</style>\n",
       "<table border=\"1\" class=\"dataframe\">\n",
       "  <thead>\n",
       "    <tr style=\"text-align: right;\">\n",
       "      <th></th>\n",
       "      <th>id_odsp</th>\n",
       "      <th>sort_order</th>\n",
       "      <th>time</th>\n",
       "      <th>text</th>\n",
       "      <th>event_type</th>\n",
       "      <th>event_team</th>\n",
       "      <th>opponent</th>\n",
       "      <th>is_goal</th>\n",
       "      <th>assist_method</th>\n",
       "      <th>fast_break</th>\n",
       "      <th>season</th>\n",
       "      <th>country</th>\n",
       "      <th>event_team_was_home</th>\n",
       "    </tr>\n",
       "  </thead>\n",
       "  <tbody>\n",
       "    <tr>\n",
       "      <th>0</th>\n",
       "      <td>UFot0hit/</td>\n",
       "      <td>1</td>\n",
       "      <td>2</td>\n",
       "      <td>Attempt missed. Mladen Petric (Hamburg) left f...</td>\n",
       "      <td>Attempt</td>\n",
       "      <td>Hamburg SV</td>\n",
       "      <td>Borussia Dortmund</td>\n",
       "      <td>0</td>\n",
       "      <td>Pass</td>\n",
       "      <td>0</td>\n",
       "      <td>2012</td>\n",
       "      <td>germany</td>\n",
       "      <td>0</td>\n",
       "    </tr>\n",
       "    <tr>\n",
       "      <th>1</th>\n",
       "      <td>UFot0hit/</td>\n",
       "      <td>2</td>\n",
       "      <td>4</td>\n",
       "      <td>Corner,  Borussia Dortmund. Conceded by Dennis...</td>\n",
       "      <td>Corner</td>\n",
       "      <td>Borussia Dortmund</td>\n",
       "      <td>Hamburg SV</td>\n",
       "      <td>0</td>\n",
       "      <td>None</td>\n",
       "      <td>0</td>\n",
       "      <td>2012</td>\n",
       "      <td>germany</td>\n",
       "      <td>1</td>\n",
       "    </tr>\n",
       "    <tr>\n",
       "      <th>2</th>\n",
       "      <td>UFot0hit/</td>\n",
       "      <td>3</td>\n",
       "      <td>4</td>\n",
       "      <td>Corner,  Borussia Dortmund. Conceded by Heiko ...</td>\n",
       "      <td>Corner</td>\n",
       "      <td>Borussia Dortmund</td>\n",
       "      <td>Hamburg SV</td>\n",
       "      <td>0</td>\n",
       "      <td>None</td>\n",
       "      <td>0</td>\n",
       "      <td>2012</td>\n",
       "      <td>germany</td>\n",
       "      <td>1</td>\n",
       "    </tr>\n",
       "    <tr>\n",
       "      <th>3</th>\n",
       "      <td>UFot0hit/</td>\n",
       "      <td>4</td>\n",
       "      <td>7</td>\n",
       "      <td>Foul by Sven Bender (Borussia Dortmund).</td>\n",
       "      <td>Foul</td>\n",
       "      <td>Borussia Dortmund</td>\n",
       "      <td>Hamburg SV</td>\n",
       "      <td>0</td>\n",
       "      <td>None</td>\n",
       "      <td>0</td>\n",
       "      <td>2012</td>\n",
       "      <td>germany</td>\n",
       "      <td>1</td>\n",
       "    </tr>\n",
       "    <tr>\n",
       "      <th>4</th>\n",
       "      <td>UFot0hit/</td>\n",
       "      <td>5</td>\n",
       "      <td>7</td>\n",
       "      <td>Gokhan Tore (Hamburg) wins a free kick in the ...</td>\n",
       "      <td>Free kick won</td>\n",
       "      <td>Hamburg SV</td>\n",
       "      <td>Borussia Dortmund</td>\n",
       "      <td>0</td>\n",
       "      <td>None</td>\n",
       "      <td>0</td>\n",
       "      <td>2012</td>\n",
       "      <td>germany</td>\n",
       "      <td>0</td>\n",
       "    </tr>\n",
       "  </tbody>\n",
       "</table>\n",
       "</div>"
      ],
      "text/plain": [
       "     id_odsp  sort_order  time  \\\n",
       "0  UFot0hit/           1     2   \n",
       "1  UFot0hit/           2     4   \n",
       "2  UFot0hit/           3     4   \n",
       "3  UFot0hit/           4     7   \n",
       "4  UFot0hit/           5     7   \n",
       "\n",
       "                                                text     event_type  \\\n",
       "0  Attempt missed. Mladen Petric (Hamburg) left f...        Attempt   \n",
       "1  Corner,  Borussia Dortmund. Conceded by Dennis...         Corner   \n",
       "2  Corner,  Borussia Dortmund. Conceded by Heiko ...         Corner   \n",
       "3           Foul by Sven Bender (Borussia Dortmund).           Foul   \n",
       "4  Gokhan Tore (Hamburg) wins a free kick in the ...  Free kick won   \n",
       "\n",
       "          event_team           opponent  is_goal assist_method  fast_break  \\\n",
       "0         Hamburg SV  Borussia Dortmund        0          Pass           0   \n",
       "1  Borussia Dortmund         Hamburg SV        0          None           0   \n",
       "2  Borussia Dortmund         Hamburg SV        0          None           0   \n",
       "3  Borussia Dortmund         Hamburg SV        0          None           0   \n",
       "4         Hamburg SV  Borussia Dortmund        0          None           0   \n",
       "\n",
       "   season  country  event_team_was_home  \n",
       "0    2012  germany                    0  \n",
       "1    2012  germany                    1  \n",
       "2    2012  germany                    1  \n",
       "3    2012  germany                    1  \n",
       "4    2012  germany                    0  "
      ]
     },
     "execution_count": 6,
     "metadata": {},
     "output_type": "execute_result"
    }
   ],
   "source": [
    "train.head()"
   ]
  },
  {
   "cell_type": "markdown",
   "metadata": {},
   "source": [
    "- Remove `time` and `event_team_was_home` for now but may want to add these back as they are not extracted from the text itself"
   ]
  },
  {
   "cell_type": "code",
   "execution_count": 7,
   "metadata": {},
   "outputs": [],
   "source": [
    "def process_data_for_nlp(df):\n",
    "    \n",
    "    df = df.copy()\n",
    "    \n",
    "    # Sort by event order\n",
    "    df.sort_values(['id_odsp', 'sort_order'], inplace=True)\n",
    "    # Create target\n",
    "    df['next_event_is_goal'] = df.groupby('id_odsp')['is_goal'].shift(-1)\n",
    "    # Drop redundant columns\n",
    "    df.drop(\n",
    "        columns=['sort_order', 'event_type', 'event_team', 'opponent', 'is_goal', 'assist_method', 'fast_break', 'season', 'country', 'event_team_was_home', 'time'], \n",
    "        inplace=True\n",
    "    )\n",
    "    # Drop entries with null target due to -1 shift\n",
    "    df.dropna(subset=['next_event_is_goal'], axis=0, inplace=True)\n",
    "    \n",
    "    df.reset_index(drop=True, inplace=True)\n",
    "    \n",
    "    return df"
   ]
  },
  {
   "cell_type": "code",
   "execution_count": 8,
   "metadata": {},
   "outputs": [],
   "source": [
    "train_p = process_data_for_nlp(train)\n",
    "dev_p = process_data_for_nlp(dev)"
   ]
  },
  {
   "cell_type": "code",
   "execution_count": 9,
   "metadata": {},
   "outputs": [
    {
     "data": {
      "text/html": [
       "<div>\n",
       "<style scoped>\n",
       "    .dataframe tbody tr th:only-of-type {\n",
       "        vertical-align: middle;\n",
       "    }\n",
       "\n",
       "    .dataframe tbody tr th {\n",
       "        vertical-align: top;\n",
       "    }\n",
       "\n",
       "    .dataframe thead th {\n",
       "        text-align: right;\n",
       "    }\n",
       "</style>\n",
       "<table border=\"1\" class=\"dataframe\">\n",
       "  <thead>\n",
       "    <tr style=\"text-align: right;\">\n",
       "      <th></th>\n",
       "      <th>id_odsp</th>\n",
       "      <th>text</th>\n",
       "      <th>next_event_is_goal</th>\n",
       "    </tr>\n",
       "  </thead>\n",
       "  <tbody>\n",
       "    <tr>\n",
       "      <th>0</th>\n",
       "      <td>004f4ING/</td>\n",
       "      <td>Bafetimbi Gomis (Swansea City) wins a free kic...</td>\n",
       "      <td>0.0</td>\n",
       "    </tr>\n",
       "    <tr>\n",
       "      <th>1</th>\n",
       "      <td>004f4ING/</td>\n",
       "      <td>Foul by Maya Yoshida (Southampton).</td>\n",
       "      <td>0.0</td>\n",
       "    </tr>\n",
       "    <tr>\n",
       "      <th>2</th>\n",
       "      <td>004f4ING/</td>\n",
       "      <td>Dusan Tadic (Southampton) wins a free kick on ...</td>\n",
       "      <td>0.0</td>\n",
       "    </tr>\n",
       "    <tr>\n",
       "      <th>3</th>\n",
       "      <td>004f4ING/</td>\n",
       "      <td>Foul by Neil Taylor (Swansea City).</td>\n",
       "      <td>0.0</td>\n",
       "    </tr>\n",
       "    <tr>\n",
       "      <th>4</th>\n",
       "      <td>004f4ING/</td>\n",
       "      <td>Attempt saved. James Ward-Prowse (Southampton)...</td>\n",
       "      <td>0.0</td>\n",
       "    </tr>\n",
       "  </tbody>\n",
       "</table>\n",
       "</div>"
      ],
      "text/plain": [
       "     id_odsp                                               text  \\\n",
       "0  004f4ING/  Bafetimbi Gomis (Swansea City) wins a free kic...   \n",
       "1  004f4ING/                Foul by Maya Yoshida (Southampton).   \n",
       "2  004f4ING/  Dusan Tadic (Southampton) wins a free kick on ...   \n",
       "3  004f4ING/                Foul by Neil Taylor (Swansea City).   \n",
       "4  004f4ING/  Attempt saved. James Ward-Prowse (Southampton)...   \n",
       "\n",
       "   next_event_is_goal  \n",
       "0                 0.0  \n",
       "1                 0.0  \n",
       "2                 0.0  \n",
       "3                 0.0  \n",
       "4                 0.0  "
      ]
     },
     "execution_count": 9,
     "metadata": {},
     "output_type": "execute_result"
    }
   ],
   "source": [
    "train_p.head()"
   ]
  },
  {
   "cell_type": "code",
   "execution_count": 10,
   "metadata": {},
   "outputs": [
    {
     "data": {
      "text/html": [
       "<div>\n",
       "<style scoped>\n",
       "    .dataframe tbody tr th:only-of-type {\n",
       "        vertical-align: middle;\n",
       "    }\n",
       "\n",
       "    .dataframe tbody tr th {\n",
       "        vertical-align: top;\n",
       "    }\n",
       "\n",
       "    .dataframe thead th {\n",
       "        text-align: right;\n",
       "    }\n",
       "</style>\n",
       "<table border=\"1\" class=\"dataframe\">\n",
       "  <thead>\n",
       "    <tr style=\"text-align: right;\">\n",
       "      <th></th>\n",
       "      <th>id_odsp</th>\n",
       "      <th>text</th>\n",
       "      <th>next_event_is_goal</th>\n",
       "    </tr>\n",
       "  </thead>\n",
       "  <tbody>\n",
       "    <tr>\n",
       "      <th>0</th>\n",
       "      <td>00nmICd9/</td>\n",
       "      <td>Foul by Juan Manuel FalcA³n (Metz).</td>\n",
       "      <td>0.0</td>\n",
       "    </tr>\n",
       "    <tr>\n",
       "      <th>1</th>\n",
       "      <td>00nmICd9/</td>\n",
       "      <td>TiemouA© Bakayoko (Monaco) wins a free kick in...</td>\n",
       "      <td>0.0</td>\n",
       "    </tr>\n",
       "    <tr>\n",
       "      <th>2</th>\n",
       "      <td>00nmICd9/</td>\n",
       "      <td>Foul by Anthony Martial (Monaco).</td>\n",
       "      <td>0.0</td>\n",
       "    </tr>\n",
       "    <tr>\n",
       "      <th>3</th>\n",
       "      <td>00nmICd9/</td>\n",
       "      <td>Sylvain Marchal (Metz) wins a free kick in the...</td>\n",
       "      <td>0.0</td>\n",
       "    </tr>\n",
       "    <tr>\n",
       "      <th>4</th>\n",
       "      <td>00nmICd9/</td>\n",
       "      <td>Foul by Cheick Doukoure (Metz).</td>\n",
       "      <td>0.0</td>\n",
       "    </tr>\n",
       "  </tbody>\n",
       "</table>\n",
       "</div>"
      ],
      "text/plain": [
       "     id_odsp                                               text  \\\n",
       "0  00nmICd9/                Foul by Juan Manuel FalcA³n (Metz).   \n",
       "1  00nmICd9/  TiemouA© Bakayoko (Monaco) wins a free kick in...   \n",
       "2  00nmICd9/                  Foul by Anthony Martial (Monaco).   \n",
       "3  00nmICd9/  Sylvain Marchal (Metz) wins a free kick in the...   \n",
       "4  00nmICd9/                    Foul by Cheick Doukoure (Metz).   \n",
       "\n",
       "   next_event_is_goal  \n",
       "0                 0.0  \n",
       "1                 0.0  \n",
       "2                 0.0  \n",
       "3                 0.0  \n",
       "4                 0.0  "
      ]
     },
     "execution_count": 10,
     "metadata": {},
     "output_type": "execute_result"
    }
   ],
   "source": [
    "dev_p.head()"
   ]
  },
  {
   "cell_type": "markdown",
   "metadata": {},
   "source": [
    "## Tokenize text commentary"
   ]
  },
  {
   "cell_type": "markdown",
   "metadata": {},
   "source": [
    "GloVe we are using is uncased so change all text to lower case:"
   ]
  },
  {
   "cell_type": "code",
   "execution_count": 11,
   "metadata": {},
   "outputs": [],
   "source": [
    "def tokenize_text_commentary(df):\n",
    "    df['text_lowercase'] = df['text'].str.lower()  # GloVe is lowercase\n",
    "    df['text_split'] = df['text_lowercase'].apply(lambda x: word_tokenize(x))"
   ]
  },
  {
   "cell_type": "code",
   "execution_count": 12,
   "metadata": {},
   "outputs": [],
   "source": [
    "%%time\n",
    "tokenize_text_commentary(train_p)"
   ]
  },
  {
   "cell_type": "code",
   "execution_count": 13,
   "metadata": {},
   "outputs": [],
   "source": [
    "%%time\n",
    "tokenize_text_commentary(dev_p)"
   ]
  },
  {
   "cell_type": "code",
   "execution_count": 14,
   "metadata": {},
   "outputs": [
    {
     "data": {
      "text/html": [
       "<div>\n",
       "<style scoped>\n",
       "    .dataframe tbody tr th:only-of-type {\n",
       "        vertical-align: middle;\n",
       "    }\n",
       "\n",
       "    .dataframe tbody tr th {\n",
       "        vertical-align: top;\n",
       "    }\n",
       "\n",
       "    .dataframe thead th {\n",
       "        text-align: right;\n",
       "    }\n",
       "</style>\n",
       "<table border=\"1\" class=\"dataframe\">\n",
       "  <thead>\n",
       "    <tr style=\"text-align: right;\">\n",
       "      <th></th>\n",
       "      <th>id_odsp</th>\n",
       "      <th>text</th>\n",
       "      <th>next_event_is_goal</th>\n",
       "      <th>text_lowercase</th>\n",
       "      <th>text_split</th>\n",
       "    </tr>\n",
       "  </thead>\n",
       "  <tbody>\n",
       "    <tr>\n",
       "      <th>0</th>\n",
       "      <td>004f4ING/</td>\n",
       "      <td>Bafetimbi Gomis (Swansea City) wins a free kic...</td>\n",
       "      <td>0.0</td>\n",
       "      <td>bafetimbi gomis (swansea city) wins a free kic...</td>\n",
       "      <td>[bafetimbi, gomis, (, swansea, city, ), wins, ...</td>\n",
       "    </tr>\n",
       "    <tr>\n",
       "      <th>1</th>\n",
       "      <td>004f4ING/</td>\n",
       "      <td>Foul by Maya Yoshida (Southampton).</td>\n",
       "      <td>0.0</td>\n",
       "      <td>foul by maya yoshida (southampton).</td>\n",
       "      <td>[foul, by, maya, yoshida, (, southampton, ), .]</td>\n",
       "    </tr>\n",
       "    <tr>\n",
       "      <th>2</th>\n",
       "      <td>004f4ING/</td>\n",
       "      <td>Dusan Tadic (Southampton) wins a free kick on ...</td>\n",
       "      <td>0.0</td>\n",
       "      <td>dusan tadic (southampton) wins a free kick on ...</td>\n",
       "      <td>[dusan, tadic, (, southampton, ), wins, a, fre...</td>\n",
       "    </tr>\n",
       "    <tr>\n",
       "      <th>3</th>\n",
       "      <td>004f4ING/</td>\n",
       "      <td>Foul by Neil Taylor (Swansea City).</td>\n",
       "      <td>0.0</td>\n",
       "      <td>foul by neil taylor (swansea city).</td>\n",
       "      <td>[foul, by, neil, taylor, (, swansea, city, ), .]</td>\n",
       "    </tr>\n",
       "    <tr>\n",
       "      <th>4</th>\n",
       "      <td>004f4ING/</td>\n",
       "      <td>Attempt saved. James Ward-Prowse (Southampton)...</td>\n",
       "      <td>0.0</td>\n",
       "      <td>attempt saved. james ward-prowse (southampton)...</td>\n",
       "      <td>[attempt, saved, ., james, ward-prowse, (, sou...</td>\n",
       "    </tr>\n",
       "  </tbody>\n",
       "</table>\n",
       "</div>"
      ],
      "text/plain": [
       "     id_odsp                                               text  \\\n",
       "0  004f4ING/  Bafetimbi Gomis (Swansea City) wins a free kic...   \n",
       "1  004f4ING/                Foul by Maya Yoshida (Southampton).   \n",
       "2  004f4ING/  Dusan Tadic (Southampton) wins a free kick on ...   \n",
       "3  004f4ING/                Foul by Neil Taylor (Swansea City).   \n",
       "4  004f4ING/  Attempt saved. James Ward-Prowse (Southampton)...   \n",
       "\n",
       "   next_event_is_goal                                     text_lowercase  \\\n",
       "0                 0.0  bafetimbi gomis (swansea city) wins a free kic...   \n",
       "1                 0.0                foul by maya yoshida (southampton).   \n",
       "2                 0.0  dusan tadic (southampton) wins a free kick on ...   \n",
       "3                 0.0                foul by neil taylor (swansea city).   \n",
       "4                 0.0  attempt saved. james ward-prowse (southampton)...   \n",
       "\n",
       "                                          text_split  \n",
       "0  [bafetimbi, gomis, (, swansea, city, ), wins, ...  \n",
       "1    [foul, by, maya, yoshida, (, southampton, ), .]  \n",
       "2  [dusan, tadic, (, southampton, ), wins, a, fre...  \n",
       "3   [foul, by, neil, taylor, (, swansea, city, ), .]  \n",
       "4  [attempt, saved, ., james, ward-prowse, (, sou...  "
      ]
     },
     "execution_count": 14,
     "metadata": {},
     "output_type": "execute_result"
    }
   ],
   "source": [
    "train_p.head()"
   ]
  },
  {
   "cell_type": "code",
   "execution_count": 15,
   "metadata": {},
   "outputs": [
    {
     "data": {
      "text/html": [
       "<div>\n",
       "<style scoped>\n",
       "    .dataframe tbody tr th:only-of-type {\n",
       "        vertical-align: middle;\n",
       "    }\n",
       "\n",
       "    .dataframe tbody tr th {\n",
       "        vertical-align: top;\n",
       "    }\n",
       "\n",
       "    .dataframe thead th {\n",
       "        text-align: right;\n",
       "    }\n",
       "</style>\n",
       "<table border=\"1\" class=\"dataframe\">\n",
       "  <thead>\n",
       "    <tr style=\"text-align: right;\">\n",
       "      <th></th>\n",
       "      <th>id_odsp</th>\n",
       "      <th>text</th>\n",
       "      <th>next_event_is_goal</th>\n",
       "      <th>text_lowercase</th>\n",
       "      <th>text_split</th>\n",
       "    </tr>\n",
       "  </thead>\n",
       "  <tbody>\n",
       "    <tr>\n",
       "      <th>0</th>\n",
       "      <td>00nmICd9/</td>\n",
       "      <td>Foul by Juan Manuel FalcA³n (Metz).</td>\n",
       "      <td>0.0</td>\n",
       "      <td>foul by juan manuel falca³n (metz).</td>\n",
       "      <td>[foul, by, juan, manuel, falca³n, (, metz, ), .]</td>\n",
       "    </tr>\n",
       "    <tr>\n",
       "      <th>1</th>\n",
       "      <td>00nmICd9/</td>\n",
       "      <td>TiemouA© Bakayoko (Monaco) wins a free kick in...</td>\n",
       "      <td>0.0</td>\n",
       "      <td>tiemoua© bakayoko (monaco) wins a free kick in...</td>\n",
       "      <td>[tiemoua©, bakayoko, (, monaco, ), wins, a, fr...</td>\n",
       "    </tr>\n",
       "    <tr>\n",
       "      <th>2</th>\n",
       "      <td>00nmICd9/</td>\n",
       "      <td>Foul by Anthony Martial (Monaco).</td>\n",
       "      <td>0.0</td>\n",
       "      <td>foul by anthony martial (monaco).</td>\n",
       "      <td>[foul, by, anthony, martial, (, monaco, ), .]</td>\n",
       "    </tr>\n",
       "    <tr>\n",
       "      <th>3</th>\n",
       "      <td>00nmICd9/</td>\n",
       "      <td>Sylvain Marchal (Metz) wins a free kick in the...</td>\n",
       "      <td>0.0</td>\n",
       "      <td>sylvain marchal (metz) wins a free kick in the...</td>\n",
       "      <td>[sylvain, marchal, (, metz, ), wins, a, free, ...</td>\n",
       "    </tr>\n",
       "    <tr>\n",
       "      <th>4</th>\n",
       "      <td>00nmICd9/</td>\n",
       "      <td>Foul by Cheick Doukoure (Metz).</td>\n",
       "      <td>0.0</td>\n",
       "      <td>foul by cheick doukoure (metz).</td>\n",
       "      <td>[foul, by, cheick, doukoure, (, metz, ), .]</td>\n",
       "    </tr>\n",
       "  </tbody>\n",
       "</table>\n",
       "</div>"
      ],
      "text/plain": [
       "     id_odsp                                               text  \\\n",
       "0  00nmICd9/                Foul by Juan Manuel FalcA³n (Metz).   \n",
       "1  00nmICd9/  TiemouA© Bakayoko (Monaco) wins a free kick in...   \n",
       "2  00nmICd9/                  Foul by Anthony Martial (Monaco).   \n",
       "3  00nmICd9/  Sylvain Marchal (Metz) wins a free kick in the...   \n",
       "4  00nmICd9/                    Foul by Cheick Doukoure (Metz).   \n",
       "\n",
       "   next_event_is_goal                                     text_lowercase  \\\n",
       "0                 0.0                foul by juan manuel falca³n (metz).   \n",
       "1                 0.0  tiemoua© bakayoko (monaco) wins a free kick in...   \n",
       "2                 0.0                  foul by anthony martial (monaco).   \n",
       "3                 0.0  sylvain marchal (metz) wins a free kick in the...   \n",
       "4                 0.0                    foul by cheick doukoure (metz).   \n",
       "\n",
       "                                          text_split  \n",
       "0   [foul, by, juan, manuel, falca³n, (, metz, ), .]  \n",
       "1  [tiemoua©, bakayoko, (, monaco, ), wins, a, fr...  \n",
       "2      [foul, by, anthony, martial, (, monaco, ), .]  \n",
       "3  [sylvain, marchal, (, metz, ), wins, a, free, ...  \n",
       "4        [foul, by, cheick, doukoure, (, metz, ), .]  "
      ]
     },
     "execution_count": 15,
     "metadata": {},
     "output_type": "execute_result"
    }
   ],
   "source": [
    "dev_p.head()"
   ]
  },
  {
   "cell_type": "code",
   "execution_count": 17,
   "metadata": {},
   "outputs": [
    {
     "data": {
      "text/plain": [
       "50"
      ]
     },
     "execution_count": 17,
     "metadata": {},
     "output_type": "execute_result"
    }
   ],
   "source": [
    "max_length = np.max(\n",
    "    (\n",
    "        train_p['text_split'].apply(len).max(), \n",
    "        dev_p['text_split'].apply(len).max()\n",
    "    )\n",
    ")\n",
    "max_length"
   ]
  },
  {
   "cell_type": "markdown",
   "metadata": {},
   "source": [
    "We assume that items which are not in the GloVe matrix are player names"
   ]
  },
  {
   "cell_type": "code",
   "execution_count": 18,
   "metadata": {},
   "outputs": [
    {
     "data": {
      "text/plain": [
       "742443"
      ]
     },
     "execution_count": 18,
     "metadata": {},
     "output_type": "execute_result"
    }
   ],
   "source": [
    "train_p.shape[0]"
   ]
  },
  {
   "cell_type": "code",
   "execution_count": 19,
   "metadata": {},
   "outputs": [],
   "source": [
    "def zero_pad(unpadded_matrix, max_length):\n",
    "    \n",
    "    if unpadded_matrix.shape[1] < max_length:\n",
    "        num_missing_items = max_length - unpadded_matrix.shape[1]\n",
    "        zero_pad = np.zeros((unpadded_matrix.shape[0], num_missing_items))\n",
    "\n",
    "    padded_matrix = np.concatenate((unpadded_matrix, zero_pad), axis=1)\n",
    "    \n",
    "    return padded_matrix"
   ]
  },
  {
   "cell_type": "code",
   "execution_count": 21,
   "metadata": {},
   "outputs": [],
   "source": [
    "def construct_3d_input_array(df):\n",
    "    m = df.shape[0]\n",
    "\n",
    "    array_3d = np.zeros((50, m, 100))  # seq_len, examples, input_size\n",
    "\n",
    "    unknown_items = []  # Keep track of items not in GloVe\n",
    "\n",
    "    for i, row in df.iterrows():\n",
    "        text_split = row['text_split']  # List of items in text commentary\n",
    "\n",
    "        vector_list = []\n",
    "        for item in text_split:\n",
    "            try:\n",
    "                word_vector = word_to_vector[item].reshape(100, 1)  # Get GloVe vector for item\n",
    "                vector_list.append(word_vector)\n",
    "            except KeyError:\n",
    "                unknown_items.append(item)  # Add to unknown list\n",
    "                word_vector = word_to_vector['name'].reshape(100, 1)  # Substitute unknown item with vector for 'name'\n",
    "\n",
    "        text_commentary_matrix = np.concatenate(vector_list, axis=1)  # Concanenate vectors into a matrix of dim (100, num_items)\n",
    "        text_commentary_matrix = zero_pad(text_commentary_matrix, max_length=max_length)  # zero-padding to (100, 50)\n",
    "\n",
    "        array_3d[:, i, :] = text_commentary_matrix.T  # Add to 3D input matrix\n",
    "        \n",
    "    return array_3d, unknown_items"
   ]
  },
  {
   "cell_type": "code",
   "execution_count": 23,
   "metadata": {},
   "outputs": [
    {
     "name": "stdout",
     "output_type": "stream",
     "text": [
      "CPU times: user 1min 33s, sys: 13.6 s, total: 1min 46s\n",
      "Wall time: 1min 50s\n"
     ]
    }
   ],
   "source": [
    "%%time\n",
    "train_3d, unknown_items_train = construct_3d_input_array(train_p)"
   ]
  },
  {
   "cell_type": "code",
   "execution_count": 26,
   "metadata": {},
   "outputs": [
    {
     "data": {
      "text/plain": [
       "((50, 742443, 100), 1884)"
      ]
     },
     "execution_count": 26,
     "metadata": {},
     "output_type": "execute_result"
    }
   ],
   "source": [
    "train_3d.shape, len(set(unknown_items_train))"
   ]
  },
  {
   "cell_type": "code",
   "execution_count": 25,
   "metadata": {},
   "outputs": [
    {
     "name": "stdout",
     "output_type": "stream",
     "text": [
      "CPU times: user 11.1 s, sys: 1.59 s, total: 12.7 s\n",
      "Wall time: 13.1 s\n"
     ]
    }
   ],
   "source": [
    "%%time\n",
    "dev_3d, unknown_items_dev = construct_3d_input_array(dev_p)"
   ]
  },
  {
   "cell_type": "code",
   "execution_count": 27,
   "metadata": {},
   "outputs": [
    {
     "data": {
      "text/plain": [
       "((50, 91789, 100), 1432)"
      ]
     },
     "execution_count": 27,
     "metadata": {},
     "output_type": "execute_result"
    }
   ],
   "source": [
    "dev_3d.shape, len(set(unknown_items_dev))"
   ]
  },
  {
   "cell_type": "markdown",
   "metadata": {},
   "source": [
    "## y labels"
   ]
  },
  {
   "cell_type": "code",
   "execution_count": 124,
   "metadata": {},
   "outputs": [],
   "source": [
    "y_train = train_p['next_event_is_goal'].values\n",
    "y_dev = dev_p['next_event_is_goal'].values"
   ]
  },
  {
   "cell_type": "markdown",
   "metadata": {},
   "source": [
    "## Create PyTorch custom dataset\n",
    "\n",
    "https://pytorch.org/tutorials/beginner/data_loading_tutorial.html"
   ]
  },
  {
   "cell_type": "code",
   "execution_count": 145,
   "metadata": {},
   "outputs": [],
   "source": [
    "from torch.utils.data import Dataset"
   ]
  },
  {
   "cell_type": "code",
   "execution_count": 146,
   "metadata": {},
   "outputs": [],
   "source": [
    "class CommentaryDataset(Dataset):\n",
    "\n",
    "    def __init__(self, X, y):\n",
    "        \"\"\"\n",
    "        :param X: 3D numpy array (seq_len, examples, input_size)\n",
    "        :param y: Labels\n",
    "        \"\"\"\n",
    "        self.X = X\n",
    "        self.y = y.reshape(-1, 1)\n",
    "\n",
    "    def __len__(self):\n",
    "        return self.X.shape[1]\n",
    "\n",
    "    def __getitem__(self, idx):\n",
    "        if torch.is_tensor(idx):\n",
    "            idx = idx.tolist()\n",
    "        \n",
    "        return self.X[:, idx, :], self.y[idx]"
   ]
  },
  {
   "cell_type": "code",
   "execution_count": 106,
   "metadata": {},
   "outputs": [
    {
     "data": {
      "text/plain": [
       "(50, 7000, 100)"
      ]
     },
     "execution_count": 106,
     "metadata": {},
     "output_type": "execute_result"
    }
   ],
   "source": [
    "train_3d[:, :7000, :].shape"
   ]
  },
  {
   "cell_type": "code",
   "execution_count": 107,
   "metadata": {},
   "outputs": [
    {
     "data": {
      "text/plain": [
       "tensor([[0.],\n",
       "        [0.],\n",
       "        [0.],\n",
       "        ...,\n",
       "        [0.],\n",
       "        [0.],\n",
       "        [0.]], dtype=torch.float64)"
      ]
     },
     "execution_count": 107,
     "metadata": {},
     "output_type": "execute_result"
    }
   ],
   "source": [
    "y_train[:7000]"
   ]
  },
  {
   "cell_type": "code",
   "execution_count": 147,
   "metadata": {},
   "outputs": [],
   "source": [
    "train_comm = CommentaryDataset(X=train_3d, y=y_train)"
   ]
  },
  {
   "cell_type": "code",
   "execution_count": 148,
   "metadata": {},
   "outputs": [
    {
     "data": {
      "text/plain": [
       "<__main__.CommentaryDataset at 0x7fe95e356d50>"
      ]
     },
     "execution_count": 148,
     "metadata": {},
     "output_type": "execute_result"
    }
   ],
   "source": [
    "train_comm"
   ]
  },
  {
   "cell_type": "code",
   "execution_count": 149,
   "metadata": {},
   "outputs": [
    {
     "data": {
      "text/plain": [
       "(50, 742443, 100)"
      ]
     },
     "execution_count": 149,
     "metadata": {},
     "output_type": "execute_result"
    }
   ],
   "source": [
    "train_3d.shape"
   ]
  },
  {
   "cell_type": "code",
   "execution_count": 150,
   "metadata": {},
   "outputs": [
    {
     "data": {
      "text/plain": [
       "742443"
      ]
     },
     "execution_count": 150,
     "metadata": {},
     "output_type": "execute_result"
    }
   ],
   "source": [
    "len(train_comm)"
   ]
  },
  {
   "cell_type": "code",
   "execution_count": 151,
   "metadata": {},
   "outputs": [
    {
     "data": {
      "text/plain": [
       "(742443,)"
      ]
     },
     "execution_count": 151,
     "metadata": {},
     "output_type": "execute_result"
    }
   ],
   "source": [
    "y_train.shape"
   ]
  },
  {
   "cell_type": "markdown",
   "metadata": {},
   "source": [
    "## Train model"
   ]
  },
  {
   "cell_type": "code",
   "execution_count": 152,
   "metadata": {},
   "outputs": [],
   "source": [
    "from torch import nn\n",
    "from torch.utils.data import DataLoader\n",
    "from torch.nn.init import xavier_uniform_"
   ]
  },
  {
   "cell_type": "code",
   "execution_count": 153,
   "metadata": {},
   "outputs": [],
   "source": [
    "torch.set_num_threads(4)"
   ]
  },
  {
   "cell_type": "code",
   "execution_count": 154,
   "metadata": {},
   "outputs": [
    {
     "data": {
      "text/plain": [
       "4"
      ]
     },
     "execution_count": 154,
     "metadata": {},
     "output_type": "execute_result"
    }
   ],
   "source": [
    "torch.get_num_threads()"
   ]
  },
  {
   "cell_type": "code",
   "execution_count": 169,
   "metadata": {},
   "outputs": [],
   "source": [
    "data_loader = DataLoader(train_comm, batch_size=64)"
   ]
  },
  {
   "cell_type": "code",
   "execution_count": 170,
   "metadata": {},
   "outputs": [],
   "source": [
    "class CommentaryClassifier(nn.Module):\n",
    "\n",
    "    def __init__(self):\n",
    "        super(CommentaryClassifier, self).__init__()\n",
    "        # LSTM\n",
    "        self.lstm = nn.LSTM(input_size=100, hidden_size=30)\n",
    "        # MLPs\n",
    "        self.fc_1 = nn.Linear(in_features=30, out_features=20)\n",
    "        self.fc_2 = nn.Linear(in_features=20, out_features=1)\n",
    "        xavier_uniform_(self.fc_2.weight)  # in-place\n",
    "        # Activation functions\n",
    "        self.relu = nn.ReLU()\n",
    "        self.sigmoid = nn.Sigmoid()\n",
    "\n",
    "    def forward(self, x):\n",
    "        all_h_t, _ = self.lstm(x.float())\n",
    "        h_T = all_h_t[:, -1, :]  # Final cell outputs\n",
    "        x = self.fc_1(h_T)\n",
    "        x = self.relu(x)\n",
    "        x = self.fc_2(x)\n",
    "        x = self.sigmoid(x)\n",
    "        return x"
   ]
  },
  {
   "cell_type": "code",
   "execution_count": 171,
   "metadata": {},
   "outputs": [],
   "source": [
    "commentary_model = CommentaryClassifier()"
   ]
  },
  {
   "cell_type": "code",
   "execution_count": 172,
   "metadata": {},
   "outputs": [
    {
     "name": "stdout",
     "output_type": "stream",
     "text": [
      "CommentaryClassifier(\n",
      "  (lstm): LSTM(100, 30)\n",
      "  (fc_1): Linear(in_features=30, out_features=20, bias=True)\n",
      "  (fc_2): Linear(in_features=20, out_features=1, bias=True)\n",
      "  (relu): ReLU()\n",
      "  (sigmoid): Sigmoid()\n",
      ")\n"
     ]
    }
   ],
   "source": [
    "print(commentary_model)"
   ]
  },
  {
   "cell_type": "code",
   "execution_count": 173,
   "metadata": {},
   "outputs": [],
   "source": [
    "import torch.optim as optim\n",
    "\n",
    "criterion = nn.BCELoss()\n",
    "optimiser = optim.Adam(params=commentary_model.parameters(), lr=0.001)"
   ]
  },
  {
   "cell_type": "code",
   "execution_count": 174,
   "metadata": {},
   "outputs": [],
   "source": [
    "from sklearn.metrics import roc_auc_score, accuracy_score"
   ]
  },
  {
   "cell_type": "code",
   "execution_count": null,
   "metadata": {},
   "outputs": [
    {
     "name": "stdout",
     "output_type": "stream",
     "text": [
      "Epoch: 0\n"
     ]
    }
   ],
   "source": [
    "for epoch in range(2):\n",
    "    print(f'Epoch: {epoch}')\n",
    "    for i, data in enumerate(data_loader):\n",
    "        \n",
    "        X, y = data\n",
    "\n",
    "        optimiser.zero_grad()  # Set gradients to 0 otherwise will accumulate\n",
    "\n",
    "        y_pred = commentary_model(X)\n",
    "        loss = criterion(y_pred, y.float())\n",
    "\n",
    "        loss.backward()\n",
    "        optimiser.step()\n",
    "    \n",
    "    # Evaluate after epoch\n",
    "    for data in DataLoader(train_comm, batch_size=len(train_comm), num_workers=8):\n",
    "        X_train, y_train = data\n",
    "        y_pred = commentary_model(X_train)\n",
    "     \n",
    "    print(roc_auc_score(y_train, y_pred.detach().numpy()))\n",
    "    print(accuracy_score(y_train, y_pred.detach().numpy() > 0.5))\n",
    "    print('\\n')"
   ]
  },
  {
   "cell_type": "code",
   "execution_count": null,
   "metadata": {},
   "outputs": [],
   "source": []
  },
  {
   "cell_type": "code",
   "execution_count": null,
   "metadata": {},
   "outputs": [],
   "source": []
  },
  {
   "cell_type": "markdown",
   "metadata": {},
   "source": [
    "## References\n",
    "\n",
    "https://nlp.stanford.edu/projects/glove/"
   ]
  },
  {
   "cell_type": "markdown",
   "metadata": {},
   "source": [
    "## Questions\n",
    "\n",
    "- How to deal with player names when using pretrained weights?"
   ]
  },
  {
   "cell_type": "markdown",
   "metadata": {},
   "source": [
    "## TODO\n",
    "\n",
    "- Change CSV read method so name accents correctly imported"
   ]
  }
 ],
 "metadata": {
  "kernelspec": {
   "display_name": "Python 3",
   "language": "python",
   "name": "python3"
  },
  "language_info": {
   "codemirror_mode": {
    "name": "ipython",
    "version": 3
   },
   "file_extension": ".py",
   "mimetype": "text/x-python",
   "name": "python",
   "nbconvert_exporter": "python",
   "pygments_lexer": "ipython3",
   "version": "3.7.8"
  }
 },
 "nbformat": 4,
 "nbformat_minor": 4
}
