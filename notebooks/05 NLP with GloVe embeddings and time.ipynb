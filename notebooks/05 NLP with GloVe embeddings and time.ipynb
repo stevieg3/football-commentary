{
 "cells": [
  {
   "cell_type": "markdown",
   "metadata": {},
   "source": [
    "# NLP with GloVe embeddings and time"
   ]
  },
  {
   "cell_type": "markdown",
   "metadata": {},
   "source": [
    "## Set-up"
   ]
  },
  {
   "cell_type": "code",
   "execution_count": 2,
   "metadata": {},
   "outputs": [],
   "source": [
    "import os\n",
    "import itertools\n",
    "import pickle\n",
    "\n",
    "import pandas as pd\n",
    "import numpy as np\n",
    "import matplotlib.pyplot as plt\n",
    "import seaborn as sns\n",
    "import torch\n",
    "from torch import nn, optim\n",
    "from torch.utils.data import Dataset, DataLoader\n",
    "from torch.nn.init import xavier_uniform_\n",
    "import nltk\n",
    "from nltk.tokenize import word_tokenize\n",
    "from sklearn.metrics import roc_auc_score, accuracy_score\n",
    "from sklearn.preprocessing import MinMaxScaler\n",
    "from tqdm import tqdm"
   ]
  },
  {
   "cell_type": "code",
   "execution_count": 3,
   "metadata": {},
   "outputs": [],
   "source": [
    "os.chdir('..')"
   ]
  },
  {
   "cell_type": "code",
   "execution_count": 4,
   "metadata": {},
   "outputs": [
    {
     "name": "stderr",
     "output_type": "stream",
     "text": [
      "[nltk_data] Downloading package punkt to\n",
      "[nltk_data]     /cs/student/msc/ml/2020/sgeorge/nltk_data...\n",
      "[nltk_data]   Package punkt is already up-to-date!\n"
     ]
    },
    {
     "data": {
      "text/plain": [
       "True"
      ]
     },
     "execution_count": 4,
     "metadata": {},
     "output_type": "execute_result"
    }
   ],
   "source": [
    "nltk.download('punkt')"
   ]
  },
  {
   "cell_type": "code",
   "execution_count": 5,
   "metadata": {},
   "outputs": [
    {
     "name": "stdout",
     "output_type": "stream",
     "text": [
      "cuda:0\n"
     ]
    }
   ],
   "source": [
    "# Need to specify device so that code can easily run on GPU if available\n",
    "device = torch.device(\"cuda:0\" if torch.cuda.is_available() else \"cpu\")\n",
    "print(device)"
   ]
  },
  {
   "cell_type": "markdown",
   "metadata": {},
   "source": [
    "## Load training and dev data"
   ]
  },
  {
   "cell_type": "code",
   "execution_count": 6,
   "metadata": {},
   "outputs": [
    {
     "name": "stdout",
     "output_type": "stream",
     "text": [
      "(749640, 13)\n",
      "(92689, 13)\n"
     ]
    }
   ],
   "source": [
    "train = pd.read_parquet('data/processed/train.parquet')\n",
    "print(train.shape)\n",
    "\n",
    "dev = pd.read_parquet('data/processed/dev.parquet')\n",
    "print(dev.shape)"
   ]
  },
  {
   "cell_type": "code",
   "execution_count": 7,
   "metadata": {},
   "outputs": [
    {
     "data": {
      "text/html": [
       "<div>\n",
       "<style scoped>\n",
       "    .dataframe tbody tr th:only-of-type {\n",
       "        vertical-align: middle;\n",
       "    }\n",
       "\n",
       "    .dataframe tbody tr th {\n",
       "        vertical-align: top;\n",
       "    }\n",
       "\n",
       "    .dataframe thead th {\n",
       "        text-align: right;\n",
       "    }\n",
       "</style>\n",
       "<table border=\"1\" class=\"dataframe\">\n",
       "  <thead>\n",
       "    <tr style=\"text-align: right;\">\n",
       "      <th></th>\n",
       "      <th>id_odsp</th>\n",
       "      <th>sort_order</th>\n",
       "      <th>time</th>\n",
       "      <th>text</th>\n",
       "      <th>event_type</th>\n",
       "      <th>event_team</th>\n",
       "      <th>opponent</th>\n",
       "      <th>is_goal</th>\n",
       "      <th>assist_method</th>\n",
       "      <th>fast_break</th>\n",
       "      <th>season</th>\n",
       "      <th>country</th>\n",
       "      <th>event_team_was_home</th>\n",
       "    </tr>\n",
       "  </thead>\n",
       "  <tbody>\n",
       "    <tr>\n",
       "      <th>0</th>\n",
       "      <td>UFot0hit/</td>\n",
       "      <td>1</td>\n",
       "      <td>2</td>\n",
       "      <td>Attempt missed. Mladen Petric (Hamburg) left f...</td>\n",
       "      <td>Attempt</td>\n",
       "      <td>Hamburg SV</td>\n",
       "      <td>Borussia Dortmund</td>\n",
       "      <td>0</td>\n",
       "      <td>Pass</td>\n",
       "      <td>0</td>\n",
       "      <td>2012</td>\n",
       "      <td>germany</td>\n",
       "      <td>0</td>\n",
       "    </tr>\n",
       "    <tr>\n",
       "      <th>1</th>\n",
       "      <td>UFot0hit/</td>\n",
       "      <td>2</td>\n",
       "      <td>4</td>\n",
       "      <td>Corner,  Borussia Dortmund. Conceded by Dennis...</td>\n",
       "      <td>Corner</td>\n",
       "      <td>Borussia Dortmund</td>\n",
       "      <td>Hamburg SV</td>\n",
       "      <td>0</td>\n",
       "      <td>None</td>\n",
       "      <td>0</td>\n",
       "      <td>2012</td>\n",
       "      <td>germany</td>\n",
       "      <td>1</td>\n",
       "    </tr>\n",
       "    <tr>\n",
       "      <th>2</th>\n",
       "      <td>UFot0hit/</td>\n",
       "      <td>3</td>\n",
       "      <td>4</td>\n",
       "      <td>Corner,  Borussia Dortmund. Conceded by Heiko ...</td>\n",
       "      <td>Corner</td>\n",
       "      <td>Borussia Dortmund</td>\n",
       "      <td>Hamburg SV</td>\n",
       "      <td>0</td>\n",
       "      <td>None</td>\n",
       "      <td>0</td>\n",
       "      <td>2012</td>\n",
       "      <td>germany</td>\n",
       "      <td>1</td>\n",
       "    </tr>\n",
       "    <tr>\n",
       "      <th>3</th>\n",
       "      <td>UFot0hit/</td>\n",
       "      <td>4</td>\n",
       "      <td>7</td>\n",
       "      <td>Foul by Sven Bender (Borussia Dortmund).</td>\n",
       "      <td>Foul</td>\n",
       "      <td>Borussia Dortmund</td>\n",
       "      <td>Hamburg SV</td>\n",
       "      <td>0</td>\n",
       "      <td>None</td>\n",
       "      <td>0</td>\n",
       "      <td>2012</td>\n",
       "      <td>germany</td>\n",
       "      <td>1</td>\n",
       "    </tr>\n",
       "    <tr>\n",
       "      <th>4</th>\n",
       "      <td>UFot0hit/</td>\n",
       "      <td>5</td>\n",
       "      <td>7</td>\n",
       "      <td>Gokhan Tore (Hamburg) wins a free kick in the ...</td>\n",
       "      <td>Free kick won</td>\n",
       "      <td>Hamburg SV</td>\n",
       "      <td>Borussia Dortmund</td>\n",
       "      <td>0</td>\n",
       "      <td>None</td>\n",
       "      <td>0</td>\n",
       "      <td>2012</td>\n",
       "      <td>germany</td>\n",
       "      <td>0</td>\n",
       "    </tr>\n",
       "  </tbody>\n",
       "</table>\n",
       "</div>"
      ],
      "text/plain": [
       "     id_odsp  sort_order  time  \\\n",
       "0  UFot0hit/           1     2   \n",
       "1  UFot0hit/           2     4   \n",
       "2  UFot0hit/           3     4   \n",
       "3  UFot0hit/           4     7   \n",
       "4  UFot0hit/           5     7   \n",
       "\n",
       "                                                text     event_type  \\\n",
       "0  Attempt missed. Mladen Petric (Hamburg) left f...        Attempt   \n",
       "1  Corner,  Borussia Dortmund. Conceded by Dennis...         Corner   \n",
       "2  Corner,  Borussia Dortmund. Conceded by Heiko ...         Corner   \n",
       "3           Foul by Sven Bender (Borussia Dortmund).           Foul   \n",
       "4  Gokhan Tore (Hamburg) wins a free kick in the ...  Free kick won   \n",
       "\n",
       "          event_team           opponent  is_goal assist_method  fast_break  \\\n",
       "0         Hamburg SV  Borussia Dortmund        0          Pass           0   \n",
       "1  Borussia Dortmund         Hamburg SV        0          None           0   \n",
       "2  Borussia Dortmund         Hamburg SV        0          None           0   \n",
       "3  Borussia Dortmund         Hamburg SV        0          None           0   \n",
       "4         Hamburg SV  Borussia Dortmund        0          None           0   \n",
       "\n",
       "   season  country  event_team_was_home  \n",
       "0    2012  germany                    0  \n",
       "1    2012  germany                    1  \n",
       "2    2012  germany                    1  \n",
       "3    2012  germany                    1  \n",
       "4    2012  germany                    0  "
      ]
     },
     "execution_count": 7,
     "metadata": {},
     "output_type": "execute_result"
    }
   ],
   "source": [
    "train.head()"
   ]
  },
  {
   "cell_type": "code",
   "execution_count": 8,
   "metadata": {},
   "outputs": [],
   "source": [
    "# time_min_max_scalar = MinMaxScaler()\n",
    "# time_min_max_scalar.fit(train[['time']])\n",
    "# pickle.dump(time_min_max_scalar, open('models/time_min_max_scalar.pickle', 'wb'))"
   ]
  },
  {
   "cell_type": "code",
   "execution_count": 9,
   "metadata": {},
   "outputs": [],
   "source": [
    "time_min_max_scalar = pickle.load(open('models/time_min_max_scalar.pickle', 'rb'))"
   ]
  },
  {
   "cell_type": "code",
   "execution_count": 10,
   "metadata": {},
   "outputs": [],
   "source": [
    "def process_data_for_nlp(df):\n",
    "    \n",
    "    df = df.copy()\n",
    "    \n",
    "    # Sort by event order\n",
    "    df.sort_values(['id_odsp', 'sort_order'], inplace=True)\n",
    "    # Create target\n",
    "    df['next_event_is_goal'] = df.groupby('id_odsp')['is_goal'].shift(-1)\n",
    "    # Drop redundant columns\n",
    "    df.drop(\n",
    "        columns=['sort_order', 'event_type', 'event_team', 'opponent', 'assist_method', 'fast_break', 'season', 'country'], \n",
    "        inplace=True\n",
    "    )\n",
    "    # Drop entries with null target due to -1 shift\n",
    "    df.dropna(subset=['next_event_is_goal'], axis=0, inplace=True)\n",
    "    \n",
    "    # Scale time\n",
    "    df['time'] = time_min_max_scalar.transform(df[['time']])\n",
    "    \n",
    "    df.reset_index(drop=True, inplace=True)\n",
    "    \n",
    "    return df"
   ]
  },
  {
   "cell_type": "code",
   "execution_count": 11,
   "metadata": {},
   "outputs": [
    {
     "data": {
      "text/plain": [
       "((742443, 6), (91789, 6))"
      ]
     },
     "execution_count": 11,
     "metadata": {},
     "output_type": "execute_result"
    }
   ],
   "source": [
    "train_p = process_data_for_nlp(train)\n",
    "dev_p = process_data_for_nlp(dev)\n",
    "\n",
    "train_p.shape, dev_p.shape"
   ]
  },
  {
   "cell_type": "code",
   "execution_count": 12,
   "metadata": {},
   "outputs": [
    {
     "data": {
      "text/html": [
       "<div>\n",
       "<style scoped>\n",
       "    .dataframe tbody tr th:only-of-type {\n",
       "        vertical-align: middle;\n",
       "    }\n",
       "\n",
       "    .dataframe tbody tr th {\n",
       "        vertical-align: top;\n",
       "    }\n",
       "\n",
       "    .dataframe thead th {\n",
       "        text-align: right;\n",
       "    }\n",
       "</style>\n",
       "<table border=\"1\" class=\"dataframe\">\n",
       "  <thead>\n",
       "    <tr style=\"text-align: right;\">\n",
       "      <th></th>\n",
       "      <th>id_odsp</th>\n",
       "      <th>time</th>\n",
       "      <th>text</th>\n",
       "      <th>is_goal</th>\n",
       "      <th>event_team_was_home</th>\n",
       "      <th>next_event_is_goal</th>\n",
       "    </tr>\n",
       "  </thead>\n",
       "  <tbody>\n",
       "    <tr>\n",
       "      <th>0</th>\n",
       "      <td>004f4ING/</td>\n",
       "      <td>0.01</td>\n",
       "      <td>Bafetimbi Gomis (Swansea City) wins a free kic...</td>\n",
       "      <td>0</td>\n",
       "      <td>0</td>\n",
       "      <td>0.0</td>\n",
       "    </tr>\n",
       "    <tr>\n",
       "      <th>1</th>\n",
       "      <td>004f4ING/</td>\n",
       "      <td>0.01</td>\n",
       "      <td>Foul by Maya Yoshida (Southampton).</td>\n",
       "      <td>0</td>\n",
       "      <td>1</td>\n",
       "      <td>0.0</td>\n",
       "    </tr>\n",
       "    <tr>\n",
       "      <th>2</th>\n",
       "      <td>004f4ING/</td>\n",
       "      <td>0.05</td>\n",
       "      <td>Dusan Tadic (Southampton) wins a free kick on ...</td>\n",
       "      <td>0</td>\n",
       "      <td>1</td>\n",
       "      <td>0.0</td>\n",
       "    </tr>\n",
       "    <tr>\n",
       "      <th>3</th>\n",
       "      <td>004f4ING/</td>\n",
       "      <td>0.05</td>\n",
       "      <td>Foul by Neil Taylor (Swansea City).</td>\n",
       "      <td>0</td>\n",
       "      <td>0</td>\n",
       "      <td>0.0</td>\n",
       "    </tr>\n",
       "    <tr>\n",
       "      <th>4</th>\n",
       "      <td>004f4ING/</td>\n",
       "      <td>0.06</td>\n",
       "      <td>Attempt saved. James Ward-Prowse (Southampton)...</td>\n",
       "      <td>0</td>\n",
       "      <td>1</td>\n",
       "      <td>0.0</td>\n",
       "    </tr>\n",
       "  </tbody>\n",
       "</table>\n",
       "</div>"
      ],
      "text/plain": [
       "     id_odsp  time                                               text  \\\n",
       "0  004f4ING/  0.01  Bafetimbi Gomis (Swansea City) wins a free kic...   \n",
       "1  004f4ING/  0.01                Foul by Maya Yoshida (Southampton).   \n",
       "2  004f4ING/  0.05  Dusan Tadic (Southampton) wins a free kick on ...   \n",
       "3  004f4ING/  0.05                Foul by Neil Taylor (Swansea City).   \n",
       "4  004f4ING/  0.06  Attempt saved. James Ward-Prowse (Southampton)...   \n",
       "\n",
       "   is_goal  event_team_was_home  next_event_is_goal  \n",
       "0        0                    0                 0.0  \n",
       "1        0                    1                 0.0  \n",
       "2        0                    1                 0.0  \n",
       "3        0                    0                 0.0  \n",
       "4        0                    1                 0.0  "
      ]
     },
     "execution_count": 12,
     "metadata": {},
     "output_type": "execute_result"
    }
   ],
   "source": [
    "train_p.head()"
   ]
  },
  {
   "cell_type": "code",
   "execution_count": 13,
   "metadata": {},
   "outputs": [
    {
     "data": {
      "text/html": [
       "<div>\n",
       "<style scoped>\n",
       "    .dataframe tbody tr th:only-of-type {\n",
       "        vertical-align: middle;\n",
       "    }\n",
       "\n",
       "    .dataframe tbody tr th {\n",
       "        vertical-align: top;\n",
       "    }\n",
       "\n",
       "    .dataframe thead th {\n",
       "        text-align: right;\n",
       "    }\n",
       "</style>\n",
       "<table border=\"1\" class=\"dataframe\">\n",
       "  <thead>\n",
       "    <tr style=\"text-align: right;\">\n",
       "      <th></th>\n",
       "      <th>id_odsp</th>\n",
       "      <th>time</th>\n",
       "      <th>text</th>\n",
       "      <th>is_goal</th>\n",
       "      <th>event_team_was_home</th>\n",
       "      <th>next_event_is_goal</th>\n",
       "    </tr>\n",
       "  </thead>\n",
       "  <tbody>\n",
       "    <tr>\n",
       "      <th>0</th>\n",
       "      <td>00nmICd9/</td>\n",
       "      <td>0.03</td>\n",
       "      <td>Foul by Juan Manuel FalcA³n (Metz).</td>\n",
       "      <td>0</td>\n",
       "      <td>1</td>\n",
       "      <td>0.0</td>\n",
       "    </tr>\n",
       "    <tr>\n",
       "      <th>1</th>\n",
       "      <td>00nmICd9/</td>\n",
       "      <td>0.03</td>\n",
       "      <td>TiemouA© Bakayoko (Monaco) wins a free kick in...</td>\n",
       "      <td>0</td>\n",
       "      <td>0</td>\n",
       "      <td>0.0</td>\n",
       "    </tr>\n",
       "    <tr>\n",
       "      <th>2</th>\n",
       "      <td>00nmICd9/</td>\n",
       "      <td>0.07</td>\n",
       "      <td>Foul by Anthony Martial (Monaco).</td>\n",
       "      <td>0</td>\n",
       "      <td>0</td>\n",
       "      <td>0.0</td>\n",
       "    </tr>\n",
       "    <tr>\n",
       "      <th>3</th>\n",
       "      <td>00nmICd9/</td>\n",
       "      <td>0.07</td>\n",
       "      <td>Sylvain Marchal (Metz) wins a free kick in the...</td>\n",
       "      <td>0</td>\n",
       "      <td>1</td>\n",
       "      <td>0.0</td>\n",
       "    </tr>\n",
       "    <tr>\n",
       "      <th>4</th>\n",
       "      <td>00nmICd9/</td>\n",
       "      <td>0.07</td>\n",
       "      <td>Foul by Cheick Doukoure (Metz).</td>\n",
       "      <td>0</td>\n",
       "      <td>1</td>\n",
       "      <td>0.0</td>\n",
       "    </tr>\n",
       "  </tbody>\n",
       "</table>\n",
       "</div>"
      ],
      "text/plain": [
       "     id_odsp  time                                               text  \\\n",
       "0  00nmICd9/  0.03                Foul by Juan Manuel FalcA³n (Metz).   \n",
       "1  00nmICd9/  0.03  TiemouA© Bakayoko (Monaco) wins a free kick in...   \n",
       "2  00nmICd9/  0.07                  Foul by Anthony Martial (Monaco).   \n",
       "3  00nmICd9/  0.07  Sylvain Marchal (Metz) wins a free kick in the...   \n",
       "4  00nmICd9/  0.07                    Foul by Cheick Doukoure (Metz).   \n",
       "\n",
       "   is_goal  event_team_was_home  next_event_is_goal  \n",
       "0        0                    1                 0.0  \n",
       "1        0                    0                 0.0  \n",
       "2        0                    0                 0.0  \n",
       "3        0                    1                 0.0  \n",
       "4        0                    1                 0.0  "
      ]
     },
     "execution_count": 13,
     "metadata": {},
     "output_type": "execute_result"
    }
   ],
   "source": [
    "dev_p.head()"
   ]
  },
  {
   "cell_type": "markdown",
   "metadata": {},
   "source": [
    "## Tokenize text commentary"
   ]
  },
  {
   "cell_type": "markdown",
   "metadata": {},
   "source": [
    "GloVe we are using is uncased so change all text to lower case:"
   ]
  },
  {
   "cell_type": "code",
   "execution_count": 14,
   "metadata": {},
   "outputs": [],
   "source": [
    "def tokenize_text_commentary(df):\n",
    "    df['text_lowercase'] = df['text'].str.lower()  # GloVe is lowercase\n",
    "    df['text_split'] = df['text_lowercase'].apply(lambda x: word_tokenize(x))"
   ]
  },
  {
   "cell_type": "code",
   "execution_count": 15,
   "metadata": {},
   "outputs": [
    {
     "name": "stdout",
     "output_type": "stream",
     "text": [
      "CPU times: user 1min 37s, sys: 333 ms, total: 1min 37s\n",
      "Wall time: 1min 37s\n"
     ]
    }
   ],
   "source": [
    "%%time\n",
    "tokenize_text_commentary(train_p)"
   ]
  },
  {
   "cell_type": "code",
   "execution_count": 16,
   "metadata": {},
   "outputs": [
    {
     "name": "stdout",
     "output_type": "stream",
     "text": [
      "CPU times: user 12.4 s, sys: 44.9 ms, total: 12.5 s\n",
      "Wall time: 12.5 s\n"
     ]
    }
   ],
   "source": [
    "%%time\n",
    "tokenize_text_commentary(dev_p)"
   ]
  },
  {
   "cell_type": "code",
   "execution_count": 17,
   "metadata": {},
   "outputs": [
    {
     "data": {
      "text/html": [
       "<div>\n",
       "<style scoped>\n",
       "    .dataframe tbody tr th:only-of-type {\n",
       "        vertical-align: middle;\n",
       "    }\n",
       "\n",
       "    .dataframe tbody tr th {\n",
       "        vertical-align: top;\n",
       "    }\n",
       "\n",
       "    .dataframe thead th {\n",
       "        text-align: right;\n",
       "    }\n",
       "</style>\n",
       "<table border=\"1\" class=\"dataframe\">\n",
       "  <thead>\n",
       "    <tr style=\"text-align: right;\">\n",
       "      <th></th>\n",
       "      <th>id_odsp</th>\n",
       "      <th>time</th>\n",
       "      <th>text</th>\n",
       "      <th>is_goal</th>\n",
       "      <th>event_team_was_home</th>\n",
       "      <th>next_event_is_goal</th>\n",
       "      <th>text_lowercase</th>\n",
       "      <th>text_split</th>\n",
       "    </tr>\n",
       "  </thead>\n",
       "  <tbody>\n",
       "    <tr>\n",
       "      <th>0</th>\n",
       "      <td>004f4ING/</td>\n",
       "      <td>0.01</td>\n",
       "      <td>Bafetimbi Gomis (Swansea City) wins a free kic...</td>\n",
       "      <td>0</td>\n",
       "      <td>0</td>\n",
       "      <td>0.0</td>\n",
       "      <td>bafetimbi gomis (swansea city) wins a free kic...</td>\n",
       "      <td>[bafetimbi, gomis, (, swansea, city, ), wins, ...</td>\n",
       "    </tr>\n",
       "    <tr>\n",
       "      <th>1</th>\n",
       "      <td>004f4ING/</td>\n",
       "      <td>0.01</td>\n",
       "      <td>Foul by Maya Yoshida (Southampton).</td>\n",
       "      <td>0</td>\n",
       "      <td>1</td>\n",
       "      <td>0.0</td>\n",
       "      <td>foul by maya yoshida (southampton).</td>\n",
       "      <td>[foul, by, maya, yoshida, (, southampton, ), .]</td>\n",
       "    </tr>\n",
       "    <tr>\n",
       "      <th>2</th>\n",
       "      <td>004f4ING/</td>\n",
       "      <td>0.05</td>\n",
       "      <td>Dusan Tadic (Southampton) wins a free kick on ...</td>\n",
       "      <td>0</td>\n",
       "      <td>1</td>\n",
       "      <td>0.0</td>\n",
       "      <td>dusan tadic (southampton) wins a free kick on ...</td>\n",
       "      <td>[dusan, tadic, (, southampton, ), wins, a, fre...</td>\n",
       "    </tr>\n",
       "    <tr>\n",
       "      <th>3</th>\n",
       "      <td>004f4ING/</td>\n",
       "      <td>0.05</td>\n",
       "      <td>Foul by Neil Taylor (Swansea City).</td>\n",
       "      <td>0</td>\n",
       "      <td>0</td>\n",
       "      <td>0.0</td>\n",
       "      <td>foul by neil taylor (swansea city).</td>\n",
       "      <td>[foul, by, neil, taylor, (, swansea, city, ), .]</td>\n",
       "    </tr>\n",
       "    <tr>\n",
       "      <th>4</th>\n",
       "      <td>004f4ING/</td>\n",
       "      <td>0.06</td>\n",
       "      <td>Attempt saved. James Ward-Prowse (Southampton)...</td>\n",
       "      <td>0</td>\n",
       "      <td>1</td>\n",
       "      <td>0.0</td>\n",
       "      <td>attempt saved. james ward-prowse (southampton)...</td>\n",
       "      <td>[attempt, saved, ., james, ward-prowse, (, sou...</td>\n",
       "    </tr>\n",
       "  </tbody>\n",
       "</table>\n",
       "</div>"
      ],
      "text/plain": [
       "     id_odsp  time                                               text  \\\n",
       "0  004f4ING/  0.01  Bafetimbi Gomis (Swansea City) wins a free kic...   \n",
       "1  004f4ING/  0.01                Foul by Maya Yoshida (Southampton).   \n",
       "2  004f4ING/  0.05  Dusan Tadic (Southampton) wins a free kick on ...   \n",
       "3  004f4ING/  0.05                Foul by Neil Taylor (Swansea City).   \n",
       "4  004f4ING/  0.06  Attempt saved. James Ward-Prowse (Southampton)...   \n",
       "\n",
       "   is_goal  event_team_was_home  next_event_is_goal  \\\n",
       "0        0                    0                 0.0   \n",
       "1        0                    1                 0.0   \n",
       "2        0                    1                 0.0   \n",
       "3        0                    0                 0.0   \n",
       "4        0                    1                 0.0   \n",
       "\n",
       "                                      text_lowercase  \\\n",
       "0  bafetimbi gomis (swansea city) wins a free kic...   \n",
       "1                foul by maya yoshida (southampton).   \n",
       "2  dusan tadic (southampton) wins a free kick on ...   \n",
       "3                foul by neil taylor (swansea city).   \n",
       "4  attempt saved. james ward-prowse (southampton)...   \n",
       "\n",
       "                                          text_split  \n",
       "0  [bafetimbi, gomis, (, swansea, city, ), wins, ...  \n",
       "1    [foul, by, maya, yoshida, (, southampton, ), .]  \n",
       "2  [dusan, tadic, (, southampton, ), wins, a, fre...  \n",
       "3   [foul, by, neil, taylor, (, swansea, city, ), .]  \n",
       "4  [attempt, saved, ., james, ward-prowse, (, sou...  "
      ]
     },
     "execution_count": 17,
     "metadata": {},
     "output_type": "execute_result"
    }
   ],
   "source": [
    "train_p.head()"
   ]
  },
  {
   "cell_type": "code",
   "execution_count": 18,
   "metadata": {},
   "outputs": [
    {
     "data": {
      "text/html": [
       "<div>\n",
       "<style scoped>\n",
       "    .dataframe tbody tr th:only-of-type {\n",
       "        vertical-align: middle;\n",
       "    }\n",
       "\n",
       "    .dataframe tbody tr th {\n",
       "        vertical-align: top;\n",
       "    }\n",
       "\n",
       "    .dataframe thead th {\n",
       "        text-align: right;\n",
       "    }\n",
       "</style>\n",
       "<table border=\"1\" class=\"dataframe\">\n",
       "  <thead>\n",
       "    <tr style=\"text-align: right;\">\n",
       "      <th></th>\n",
       "      <th>id_odsp</th>\n",
       "      <th>time</th>\n",
       "      <th>text</th>\n",
       "      <th>is_goal</th>\n",
       "      <th>event_team_was_home</th>\n",
       "      <th>next_event_is_goal</th>\n",
       "      <th>text_lowercase</th>\n",
       "      <th>text_split</th>\n",
       "    </tr>\n",
       "  </thead>\n",
       "  <tbody>\n",
       "    <tr>\n",
       "      <th>0</th>\n",
       "      <td>00nmICd9/</td>\n",
       "      <td>0.03</td>\n",
       "      <td>Foul by Juan Manuel FalcA³n (Metz).</td>\n",
       "      <td>0</td>\n",
       "      <td>1</td>\n",
       "      <td>0.0</td>\n",
       "      <td>foul by juan manuel falca³n (metz).</td>\n",
       "      <td>[foul, by, juan, manuel, falca³n, (, metz, ), .]</td>\n",
       "    </tr>\n",
       "    <tr>\n",
       "      <th>1</th>\n",
       "      <td>00nmICd9/</td>\n",
       "      <td>0.03</td>\n",
       "      <td>TiemouA© Bakayoko (Monaco) wins a free kick in...</td>\n",
       "      <td>0</td>\n",
       "      <td>0</td>\n",
       "      <td>0.0</td>\n",
       "      <td>tiemoua© bakayoko (monaco) wins a free kick in...</td>\n",
       "      <td>[tiemoua©, bakayoko, (, monaco, ), wins, a, fr...</td>\n",
       "    </tr>\n",
       "    <tr>\n",
       "      <th>2</th>\n",
       "      <td>00nmICd9/</td>\n",
       "      <td>0.07</td>\n",
       "      <td>Foul by Anthony Martial (Monaco).</td>\n",
       "      <td>0</td>\n",
       "      <td>0</td>\n",
       "      <td>0.0</td>\n",
       "      <td>foul by anthony martial (monaco).</td>\n",
       "      <td>[foul, by, anthony, martial, (, monaco, ), .]</td>\n",
       "    </tr>\n",
       "    <tr>\n",
       "      <th>3</th>\n",
       "      <td>00nmICd9/</td>\n",
       "      <td>0.07</td>\n",
       "      <td>Sylvain Marchal (Metz) wins a free kick in the...</td>\n",
       "      <td>0</td>\n",
       "      <td>1</td>\n",
       "      <td>0.0</td>\n",
       "      <td>sylvain marchal (metz) wins a free kick in the...</td>\n",
       "      <td>[sylvain, marchal, (, metz, ), wins, a, free, ...</td>\n",
       "    </tr>\n",
       "    <tr>\n",
       "      <th>4</th>\n",
       "      <td>00nmICd9/</td>\n",
       "      <td>0.07</td>\n",
       "      <td>Foul by Cheick Doukoure (Metz).</td>\n",
       "      <td>0</td>\n",
       "      <td>1</td>\n",
       "      <td>0.0</td>\n",
       "      <td>foul by cheick doukoure (metz).</td>\n",
       "      <td>[foul, by, cheick, doukoure, (, metz, ), .]</td>\n",
       "    </tr>\n",
       "  </tbody>\n",
       "</table>\n",
       "</div>"
      ],
      "text/plain": [
       "     id_odsp  time                                               text  \\\n",
       "0  00nmICd9/  0.03                Foul by Juan Manuel FalcA³n (Metz).   \n",
       "1  00nmICd9/  0.03  TiemouA© Bakayoko (Monaco) wins a free kick in...   \n",
       "2  00nmICd9/  0.07                  Foul by Anthony Martial (Monaco).   \n",
       "3  00nmICd9/  0.07  Sylvain Marchal (Metz) wins a free kick in the...   \n",
       "4  00nmICd9/  0.07                    Foul by Cheick Doukoure (Metz).   \n",
       "\n",
       "   is_goal  event_team_was_home  next_event_is_goal  \\\n",
       "0        0                    1                 0.0   \n",
       "1        0                    0                 0.0   \n",
       "2        0                    0                 0.0   \n",
       "3        0                    1                 0.0   \n",
       "4        0                    1                 0.0   \n",
       "\n",
       "                                      text_lowercase  \\\n",
       "0                foul by juan manuel falca³n (metz).   \n",
       "1  tiemoua© bakayoko (monaco) wins a free kick in...   \n",
       "2                  foul by anthony martial (monaco).   \n",
       "3  sylvain marchal (metz) wins a free kick in the...   \n",
       "4                    foul by cheick doukoure (metz).   \n",
       "\n",
       "                                          text_split  \n",
       "0   [foul, by, juan, manuel, falca³n, (, metz, ), .]  \n",
       "1  [tiemoua©, bakayoko, (, monaco, ), wins, a, fr...  \n",
       "2      [foul, by, anthony, martial, (, monaco, ), .]  \n",
       "3  [sylvain, marchal, (, metz, ), wins, a, free, ...  \n",
       "4        [foul, by, cheick, doukoure, (, metz, ), .]  "
      ]
     },
     "execution_count": 18,
     "metadata": {},
     "output_type": "execute_result"
    }
   ],
   "source": [
    "dev_p.head()"
   ]
  },
  {
   "cell_type": "code",
   "execution_count": 19,
   "metadata": {},
   "outputs": [],
   "source": [
    "# Combine all token lists together and find set to get vocab\n",
    "vocab_set = set(\n",
    "    itertools.chain.from_iterable(\n",
    "        list(train_p['text_split'])\n",
    "    )\n",
    ")"
   ]
  },
  {
   "cell_type": "code",
   "execution_count": 20,
   "metadata": {},
   "outputs": [
    {
     "data": {
      "text/plain": [
       "6468"
      ]
     },
     "execution_count": 20,
     "metadata": {},
     "output_type": "execute_result"
    }
   ],
   "source": [
    "len(vocab_set)"
   ]
  },
  {
   "cell_type": "code",
   "execution_count": 21,
   "metadata": {},
   "outputs": [],
   "source": [
    "# Create token to index dict\n",
    "word_to_idx = dict(\n",
    "    zip(\n",
    "        vocab_set, \n",
    "        range(  # Start index from 1 as we reserve the 0 index for the padding vector\n",
    "            1,\n",
    "            len(vocab_set)+1\n",
    "        )\n",
    "    )\n",
    ")"
   ]
  },
  {
   "cell_type": "code",
   "execution_count": 22,
   "metadata": {},
   "outputs": [
    {
     "name": "stdout",
     "output_type": "stream",
     "text": [
      "CPU times: user 2.19 s, sys: 34 ms, total: 2.22 s\n",
      "Wall time: 2.23 s\n"
     ]
    }
   ],
   "source": [
    "%%time\n",
    "# For each sentence in training map tokens to corresponding index\n",
    "train_p['token_sequence'] = [[word_to_idx[token] for token in commentary] for commentary in list(train_p['text_split'])]"
   ]
  },
  {
   "cell_type": "code",
   "execution_count": 23,
   "metadata": {},
   "outputs": [
    {
     "data": {
      "text/html": [
       "<div>\n",
       "<style scoped>\n",
       "    .dataframe tbody tr th:only-of-type {\n",
       "        vertical-align: middle;\n",
       "    }\n",
       "\n",
       "    .dataframe tbody tr th {\n",
       "        vertical-align: top;\n",
       "    }\n",
       "\n",
       "    .dataframe thead th {\n",
       "        text-align: right;\n",
       "    }\n",
       "</style>\n",
       "<table border=\"1\" class=\"dataframe\">\n",
       "  <thead>\n",
       "    <tr style=\"text-align: right;\">\n",
       "      <th></th>\n",
       "      <th>id_odsp</th>\n",
       "      <th>time</th>\n",
       "      <th>text</th>\n",
       "      <th>is_goal</th>\n",
       "      <th>event_team_was_home</th>\n",
       "      <th>next_event_is_goal</th>\n",
       "      <th>text_lowercase</th>\n",
       "      <th>text_split</th>\n",
       "      <th>token_sequence</th>\n",
       "    </tr>\n",
       "  </thead>\n",
       "  <tbody>\n",
       "    <tr>\n",
       "      <th>0</th>\n",
       "      <td>004f4ING/</td>\n",
       "      <td>0.01</td>\n",
       "      <td>Bafetimbi Gomis (Swansea City) wins a free kic...</td>\n",
       "      <td>0</td>\n",
       "      <td>0</td>\n",
       "      <td>0.0</td>\n",
       "      <td>bafetimbi gomis (swansea city) wins a free kic...</td>\n",
       "      <td>[bafetimbi, gomis, (, swansea, city, ), wins, ...</td>\n",
       "      <td>[3813, 6148, 6005, 5894, 5128, 4920, 4048, 101...</td>\n",
       "    </tr>\n",
       "    <tr>\n",
       "      <th>1</th>\n",
       "      <td>004f4ING/</td>\n",
       "      <td>0.01</td>\n",
       "      <td>Foul by Maya Yoshida (Southampton).</td>\n",
       "      <td>0</td>\n",
       "      <td>1</td>\n",
       "      <td>0.0</td>\n",
       "      <td>foul by maya yoshida (southampton).</td>\n",
       "      <td>[foul, by, maya, yoshida, (, southampton, ), .]</td>\n",
       "      <td>[5356, 3613, 5605, 4756, 6005, 4860, 4920, 3860]</td>\n",
       "    </tr>\n",
       "    <tr>\n",
       "      <th>2</th>\n",
       "      <td>004f4ING/</td>\n",
       "      <td>0.05</td>\n",
       "      <td>Dusan Tadic (Southampton) wins a free kick on ...</td>\n",
       "      <td>0</td>\n",
       "      <td>1</td>\n",
       "      <td>0.0</td>\n",
       "      <td>dusan tadic (southampton) wins a free kick on ...</td>\n",
       "      <td>[dusan, tadic, (, southampton, ), wins, a, fre...</td>\n",
       "      <td>[1611, 2074, 6005, 4860, 4920, 4048, 1019, 237...</td>\n",
       "    </tr>\n",
       "    <tr>\n",
       "      <th>3</th>\n",
       "      <td>004f4ING/</td>\n",
       "      <td>0.05</td>\n",
       "      <td>Foul by Neil Taylor (Swansea City).</td>\n",
       "      <td>0</td>\n",
       "      <td>0</td>\n",
       "      <td>0.0</td>\n",
       "      <td>foul by neil taylor (swansea city).</td>\n",
       "      <td>[foul, by, neil, taylor, (, swansea, city, ), .]</td>\n",
       "      <td>[5356, 3613, 517, 3405, 6005, 5894, 5128, 4920...</td>\n",
       "    </tr>\n",
       "    <tr>\n",
       "      <th>4</th>\n",
       "      <td>004f4ING/</td>\n",
       "      <td>0.06</td>\n",
       "      <td>Attempt saved. James Ward-Prowse (Southampton)...</td>\n",
       "      <td>0</td>\n",
       "      <td>1</td>\n",
       "      <td>0.0</td>\n",
       "      <td>attempt saved. james ward-prowse (southampton)...</td>\n",
       "      <td>[attempt, saved, ., james, ward-prowse, (, sou...</td>\n",
       "      <td>[2994, 4500, 3860, 446, 3724, 6005, 4860, 4920...</td>\n",
       "    </tr>\n",
       "  </tbody>\n",
       "</table>\n",
       "</div>"
      ],
      "text/plain": [
       "     id_odsp  time                                               text  \\\n",
       "0  004f4ING/  0.01  Bafetimbi Gomis (Swansea City) wins a free kic...   \n",
       "1  004f4ING/  0.01                Foul by Maya Yoshida (Southampton).   \n",
       "2  004f4ING/  0.05  Dusan Tadic (Southampton) wins a free kick on ...   \n",
       "3  004f4ING/  0.05                Foul by Neil Taylor (Swansea City).   \n",
       "4  004f4ING/  0.06  Attempt saved. James Ward-Prowse (Southampton)...   \n",
       "\n",
       "   is_goal  event_team_was_home  next_event_is_goal  \\\n",
       "0        0                    0                 0.0   \n",
       "1        0                    1                 0.0   \n",
       "2        0                    1                 0.0   \n",
       "3        0                    0                 0.0   \n",
       "4        0                    1                 0.0   \n",
       "\n",
       "                                      text_lowercase  \\\n",
       "0  bafetimbi gomis (swansea city) wins a free kic...   \n",
       "1                foul by maya yoshida (southampton).   \n",
       "2  dusan tadic (southampton) wins a free kick on ...   \n",
       "3                foul by neil taylor (swansea city).   \n",
       "4  attempt saved. james ward-prowse (southampton)...   \n",
       "\n",
       "                                          text_split  \\\n",
       "0  [bafetimbi, gomis, (, swansea, city, ), wins, ...   \n",
       "1    [foul, by, maya, yoshida, (, southampton, ), .]   \n",
       "2  [dusan, tadic, (, southampton, ), wins, a, fre...   \n",
       "3   [foul, by, neil, taylor, (, swansea, city, ), .]   \n",
       "4  [attempt, saved, ., james, ward-prowse, (, sou...   \n",
       "\n",
       "                                      token_sequence  \n",
       "0  [3813, 6148, 6005, 5894, 5128, 4920, 4048, 101...  \n",
       "1   [5356, 3613, 5605, 4756, 6005, 4860, 4920, 3860]  \n",
       "2  [1611, 2074, 6005, 4860, 4920, 4048, 1019, 237...  \n",
       "3  [5356, 3613, 517, 3405, 6005, 5894, 5128, 4920...  \n",
       "4  [2994, 4500, 3860, 446, 3724, 6005, 4860, 4920...  "
      ]
     },
     "execution_count": 23,
     "metadata": {},
     "output_type": "execute_result"
    }
   ],
   "source": [
    "train_p.head()"
   ]
  },
  {
   "cell_type": "code",
   "execution_count": 24,
   "metadata": {},
   "outputs": [
    {
     "data": {
      "text/plain": [
       "50"
      ]
     },
     "execution_count": 24,
     "metadata": {},
     "output_type": "execute_result"
    }
   ],
   "source": [
    "MAX_LENGTH = np.max([len(seq) for seq in train_p['token_sequence']])  # Max length of tokens for any sentence in the training data\n",
    "MAX_LENGTH"
   ]
  },
  {
   "cell_type": "code",
   "execution_count": 25,
   "metadata": {},
   "outputs": [],
   "source": [
    "def pad_sentence(sentence_seq, max_length=MAX_LENGTH):\n",
    "    \"\"\"\n",
    "    Takes a list of numbers representing a sentence and appends zeros to the list until `max_length` is achieved.\n",
    "    \"\"\"\n",
    "    if len(sentence_seq) < max_length:\n",
    "        num_zeros_to_add = max_length - len(sentence_seq)\n",
    "        zeros_list = list(np.zeros(num_zeros_to_add))\n",
    "        zeros_list = [int(x) for x in zeros_list]  # Convert zeros to int\n",
    "        \n",
    "        sentence_seq = sentence_seq + zeros_list\n",
    "        \n",
    "    return sentence_seq"
   ]
  },
  {
   "cell_type": "code",
   "execution_count": 26,
   "metadata": {},
   "outputs": [],
   "source": [
    "class CommentaryDataset(Dataset):\n",
    "\n",
    "    def __init__(self, data, word_to_idx, max_length=MAX_LENGTH):\n",
    "        \"\"\"\n",
    "        \"\"\"\n",
    "        data = data.copy()\n",
    "        \n",
    "        # Initial pre-processing\n",
    "        data = process_data_for_nlp(data)\n",
    "        \n",
    "        # Tokenise text commentary\n",
    "        tokenize_text_commentary(data)\n",
    "        \n",
    "        # Look up each token in word_to_index (from training) and get index value or drop if not in dictionary\n",
    "        data['token_sequence'] = [\n",
    "            [word_to_idx.get(token) for token in commentary if word_to_idx.get(token) != None] for commentary in list(data['text_split'])\n",
    "        ]\n",
    "        \n",
    "        # Trim to length\n",
    "        data['token_sequence'] = [token_sequence[:max_length] for token_sequence in list(data['token_sequence'])]\n",
    "        \n",
    "        # Pad sentences\n",
    "        data['token_sequence'] = [pad_sentence(token_sequence) for token_sequence in data['token_sequence']]\n",
    "        \n",
    "        # Lagged features\n",
    "        for i in range(1,5):\n",
    "            data[f'token_sequence_minus_{i}'] = data.groupby('id_odsp')['token_sequence'].shift(i)\n",
    "            data[f'time_minus_{i}'] = data.groupby('id_odsp')['time'].shift(i)\n",
    "            data[f'is_goal_minus_{i}'] = data.groupby('id_odsp')['is_goal'].shift(i)\n",
    "            \n",
    "        data.dropna(axis=0, how='any', inplace=True)  # Drop rows with empty features caused by lag\n",
    "        \n",
    "        token_sequence = ['token_sequence'] + [f'token_sequence_minus_{i}' for i in range(1, 5)]\n",
    "        token_sequence.reverse()  # Order from furthest away to most recent\n",
    "        self.token_sequence = np.array(data[token_sequence].values.tolist())  # Create 3D matrix of token sequences of shape (batch size, timesteps, tokens)\n",
    "        \n",
    "        time = ['time'] + [f'time_minus_{i}' for i in range(1, 5)]\n",
    "        time.reverse()\n",
    "        self.time = data[time].values\n",
    "        \n",
    "        goal = ['is_goal'] + [f'is_goal_minus_{i}' for i in range(1, 5)]\n",
    "        goal.reverse()\n",
    "        self.goal = data[goal].values\n",
    "        \n",
    "        self.event_team_was_home = data['event_team_was_home'].values\n",
    "        \n",
    "        self.y = data['next_event_is_goal'].values\n",
    "\n",
    "    def __len__(self):\n",
    "        return self.token_sequence.shape[0]\n",
    "\n",
    "    def __getitem__(self, idx):\n",
    "        if torch.is_tensor(idx):\n",
    "            idx = idx.tolist()\n",
    "        \n",
    "        return self.token_sequence[idx, :, :], self.time[idx, :], self.goal[idx, :], self.event_team_was_home[idx], self.y[idx]"
   ]
  },
  {
   "cell_type": "code",
   "execution_count": 27,
   "metadata": {},
   "outputs": [
    {
     "name": "stdout",
     "output_type": "stream",
     "text": [
      "CPU times: user 2min 3s, sys: 1.15 s, total: 2min 4s\n",
      "Wall time: 2min 4s\n"
     ]
    }
   ],
   "source": [
    "%%time\n",
    "train_comm = CommentaryDataset(train, word_to_idx)"
   ]
  },
  {
   "cell_type": "code",
   "execution_count": 28,
   "metadata": {},
   "outputs": [
    {
     "name": "stdout",
     "output_type": "stream",
     "text": [
      "CPU times: user 15.3 s, sys: 120 ms, total: 15.4 s\n",
      "Wall time: 15.4 s\n"
     ]
    }
   ],
   "source": [
    "%%time\n",
    "dev_comm = CommentaryDataset(dev, word_to_idx)"
   ]
  },
  {
   "cell_type": "markdown",
   "metadata": {},
   "source": [
    "## Load pre-trained GloVe embeddings"
   ]
  },
  {
   "cell_type": "code",
   "execution_count": 29,
   "metadata": {},
   "outputs": [
    {
     "name": "stdout",
     "output_type": "stream",
     "text": [
      "CPU times: user 6.83 s, sys: 213 ms, total: 7.04 s\n",
      "Wall time: 6.96 s\n"
     ]
    }
   ],
   "source": [
    "%%time\n",
    "word_to_vector = {}\n",
    "with open('data/external/glove.6B.100d.txt', \"r\") as f:\n",
    "    # Each line starts with the word/character followed by the 100d vector representation\n",
    "    for line in f:\n",
    "        \n",
    "        # Split by whitespace:\n",
    "        components = line.split()\n",
    "        \n",
    "        word = components[0]\n",
    "        vector_values = components[1:]\n",
    "        \n",
    "        vector_array = np.array(vector_values, dtype=np.float64)  # Convert vector to numpy array\n",
    "        \n",
    "        # Add to dictionary\n",
    "        word_to_vector[word] = vector_array"
   ]
  },
  {
   "cell_type": "code",
   "execution_count": 30,
   "metadata": {},
   "outputs": [
    {
     "data": {
      "text/plain": [
       "400000"
      ]
     },
     "execution_count": 30,
     "metadata": {},
     "output_type": "execute_result"
    }
   ],
   "source": [
    "len(word_to_vector.keys())"
   ]
  },
  {
   "cell_type": "code",
   "execution_count": 31,
   "metadata": {},
   "outputs": [
    {
     "data": {
      "text/plain": [
       "array([ 8.8509e-01, -8.0413e-01,  7.3326e-01, -1.1997e+00, -4.4433e-01,\n",
       "        9.9010e-01, -1.1211e-01, -7.0893e-01, -1.4639e-01, -1.9667e-01,\n",
       "       -1.4831e-01, -1.0859e-01, -3.9821e-01, -4.9383e-01,  1.0474e+00,\n",
       "        6.4321e-01, -6.4378e-01, -2.7974e-01, -4.2865e-01,  5.5361e-02,\n",
       "        2.1271e-01,  6.2063e-01,  1.1255e-01, -9.9549e-02,  5.2189e-01,\n",
       "       -2.9921e-01, -6.3453e-01,  5.5675e-01,  1.0460e-01, -1.0456e-01,\n",
       "        3.0833e-02, -1.0498e-03,  5.6656e-01, -1.1333e-01, -5.8664e-02,\n",
       "       -5.9103e-01, -2.2791e-01,  3.2208e-01,  6.9484e-02,  3.6374e-01,\n",
       "       -3.4399e-01,  3.3388e-02,  1.2079e-01, -6.0931e-01, -3.2988e-01,\n",
       "        5.1176e-02, -3.5307e-01, -4.5887e-02, -2.0085e-01, -6.6991e-01,\n",
       "        4.3831e-01,  3.8817e-01, -9.4224e-01,  5.2481e-01, -7.7710e-02,\n",
       "       -1.3177e+00, -1.2479e-01,  3.3277e-01,  1.1003e+00,  4.8362e-01,\n",
       "       -3.4234e-01,  1.5704e-01, -6.7879e-01,  4.4289e-01, -1.7270e-01,\n",
       "       -5.3625e-01,  1.0005e+00, -9.6411e-01, -1.2487e+00, -1.9425e-01,\n",
       "       -1.0907e+00,  1.6932e-01,  7.1101e-01, -3.1025e-02,  1.8118e-01,\n",
       "        3.9567e-01, -3.1815e-01, -2.0455e-01, -1.4048e-02,  9.9726e-01,\n",
       "        5.4227e-01,  2.6200e-01, -9.6486e-01,  6.7644e-02, -1.3214e+00,\n",
       "       -7.1359e-01,  3.2818e-01,  3.5588e-01,  3.8178e-01, -1.1369e-01,\n",
       "       -7.3429e-01, -8.9334e-02, -1.1049e+00,  2.7504e-01,  3.8443e-01,\n",
       "        1.5828e-01, -6.0444e-01,  2.5557e-01, -3.4384e-01, -4.8057e-01])"
      ]
     },
     "execution_count": 31,
     "metadata": {},
     "output_type": "execute_result"
    }
   ],
   "source": [
    "word_to_vector['foul']"
   ]
  },
  {
   "cell_type": "markdown",
   "metadata": {},
   "source": [
    "## Create embedding matrix"
   ]
  },
  {
   "cell_type": "code",
   "execution_count": 32,
   "metadata": {},
   "outputs": [],
   "source": [
    "GLOVE_DIMENSION = 100"
   ]
  },
  {
   "cell_type": "code",
   "execution_count": 33,
   "metadata": {},
   "outputs": [
    {
     "data": {
      "text/plain": [
       "(6469, 100)"
      ]
     },
     "execution_count": 33,
     "metadata": {},
     "output_type": "execute_result"
    }
   ],
   "source": [
    "# Create empty matrix for embedding matrix\n",
    "embedding_matrix = np.zeros(\n",
    "    (\n",
    "        len(vocab_set) + 1,  # Additional 1 for zero vector for padding\n",
    "        GLOVE_DIMENSION\n",
    "    )\n",
    ")\n",
    "embedding_matrix.shape"
   ]
  },
  {
   "cell_type": "code",
   "execution_count": 34,
   "metadata": {},
   "outputs": [
    {
     "data": {
      "text/plain": [
       "6468"
      ]
     },
     "execution_count": 34,
     "metadata": {},
     "output_type": "execute_result"
    }
   ],
   "source": [
    "len(word_to_idx.keys())"
   ]
  },
  {
   "cell_type": "code",
   "execution_count": 35,
   "metadata": {},
   "outputs": [],
   "source": [
    "for word, idx in word_to_idx.items():\n",
    "    try:\n",
    "        embedding_matrix[idx, :] = word_to_vector[word]\n",
    "    except KeyError:  # Word in training set not in GloVe\n",
    "        embedding_matrix[idx, :] = np.zeros(GLOVE_DIMENSION)  # We replace unknown words with zeros"
   ]
  },
  {
   "cell_type": "code",
   "execution_count": 36,
   "metadata": {},
   "outputs": [
    {
     "data": {
      "text/plain": [
       "array([[ 0.       ,  0.       ,  0.       , ...,  0.       ,  0.       ,\n",
       "         0.       ],\n",
       "       [-0.22825  , -0.35789  , -0.045921 , ...,  0.90784  , -0.6716   ,\n",
       "        -0.98099  ],\n",
       "       [ 0.14814  , -0.27723  , -0.90581  , ..., -0.37967  , -0.22567  ,\n",
       "         0.0015809],\n",
       "       ...,\n",
       "       [ 0.       ,  0.       ,  0.       , ...,  0.       ,  0.       ,\n",
       "         0.       ],\n",
       "       [ 0.       ,  0.       ,  0.       , ...,  0.       ,  0.       ,\n",
       "         0.       ],\n",
       "       [ 0.42538  ,  0.071226 , -0.28185  , ..., -1.011    , -0.83924  ,\n",
       "        -0.44538  ]])"
      ]
     },
     "execution_count": 36,
     "metadata": {},
     "output_type": "execute_result"
    }
   ],
   "source": [
    "embedding_matrix"
   ]
  },
  {
   "cell_type": "code",
   "execution_count": 37,
   "metadata": {},
   "outputs": [
    {
     "data": {
      "text/plain": [
       "1885"
      ]
     },
     "execution_count": 37,
     "metadata": {},
     "output_type": "execute_result"
    }
   ],
   "source": [
    "np.sum(embedding_matrix.sum(axis=1) == 0)  # Number of words in vocab but not in GloVe"
   ]
  },
  {
   "cell_type": "code",
   "execution_count": 38,
   "metadata": {},
   "outputs": [],
   "source": [
    "# Convert to tensor for PyTorch\n",
    "embedding_tensor = torch.from_numpy(embedding_matrix)\n",
    "embedding_tensor = embedding_tensor.to(device)"
   ]
  },
  {
   "cell_type": "markdown",
   "metadata": {},
   "source": [
    "## Train model"
   ]
  },
  {
   "cell_type": "code",
   "execution_count": 39,
   "metadata": {},
   "outputs": [
    {
     "data": {
      "text/plain": [
       "(713655, 50)"
      ]
     },
     "execution_count": 39,
     "metadata": {},
     "output_type": "execute_result"
    }
   ],
   "source": [
    "train_comm.token_sequence[:,1,:].shape"
   ]
  },
  {
   "cell_type": "code",
   "execution_count": 40,
   "metadata": {},
   "outputs": [
    {
     "data": {
      "text/plain": [
       "(713655,)"
      ]
     },
     "execution_count": 40,
     "metadata": {},
     "output_type": "execute_result"
    }
   ],
   "source": [
    "train_comm.event_team_was_home.shape"
   ]
  },
  {
   "cell_type": "code",
   "execution_count": 41,
   "metadata": {},
   "outputs": [
    {
     "data": {
      "text/plain": [
       "(713655, 5)"
      ]
     },
     "execution_count": 41,
     "metadata": {},
     "output_type": "execute_result"
    }
   ],
   "source": [
    "train_comm.goal.shape"
   ]
  },
  {
   "cell_type": "code",
   "execution_count": 42,
   "metadata": {},
   "outputs": [
    {
     "data": {
      "text/plain": [
       "(713655, 5)"
      ]
     },
     "execution_count": 42,
     "metadata": {},
     "output_type": "execute_result"
    }
   ],
   "source": [
    "train_comm.time.shape"
   ]
  },
  {
   "cell_type": "code",
   "execution_count": 43,
   "metadata": {},
   "outputs": [
    {
     "data": {
      "text/plain": [
       "(713655,)"
      ]
     },
     "execution_count": 43,
     "metadata": {},
     "output_type": "execute_result"
    }
   ],
   "source": [
    "train_comm.y.shape"
   ]
  },
  {
   "cell_type": "code",
   "execution_count": 44,
   "metadata": {},
   "outputs": [],
   "source": [
    "class NextEventIsGoal(nn.Module):\n",
    "\n",
    "    def __init__(self):\n",
    "        super(NextEventIsGoal, self).__init__()\n",
    "        # Embedding layer\n",
    "        self.embedding = nn.Embedding.from_pretrained(embeddings=embedding_tensor, freeze=False)\n",
    "        # LSTM\n",
    "        self.lstm_sentences = nn.LSTM(input_size=GLOVE_DIMENSION, hidden_size=125, batch_first=True)\n",
    "        self.lstm_features = nn.LSTM(input_size=125+2, hidden_size=300, batch_first=True)\n",
    "        \n",
    "        # MLP\n",
    "        self.fc_1 = nn.Linear(in_features=300+1, out_features=125)\n",
    "        self.fc_2 = nn.Linear(in_features=125, out_features=1)\n",
    "\n",
    "        xavier_uniform_(self.fc_1.weight)  # in-place\n",
    "        xavier_uniform_(self.fc_2.weight)  # in-place        \n",
    "        \n",
    "        self.dropout = nn.Dropout(p=0)\n",
    "        \n",
    "        self.relu = nn.ReLU()\n",
    "        self.sigmoid = nn.Sigmoid()\n",
    "\n",
    "    def forward(self, token_sequence, event_team_was_home, goal, time):\n",
    "        \n",
    "        x = self.embedding(token_sequence[:,0,:])\n",
    "        x = x.float()\n",
    "        all_h_t, _ = self.lstm_sentences(x)\n",
    "        h_T0 = all_h_t[:, -1, :]  # Final cell outputs\n",
    "        \n",
    "        x = self.embedding(token_sequence[:,1,:])\n",
    "        x = x.float()\n",
    "        all_h_t, _ = self.lstm_sentences(x)\n",
    "        h_T1 = all_h_t[:, -1, :]  # Final cell outputs\n",
    "        \n",
    "        x = self.embedding(token_sequence[:,2,:])\n",
    "        x = x.float()\n",
    "        all_h_t, _ = self.lstm_sentences(x)\n",
    "        h_T2 = all_h_t[:, -1, :]  # Final cell outputs\n",
    "        \n",
    "        x = self.embedding(token_sequence[:,3,:])\n",
    "        x = x.float()\n",
    "        all_h_t, _ = self.lstm_sentences(x)\n",
    "        h_T3 = all_h_t[:, -1, :]  # Final cell outputs\n",
    "        \n",
    "        x = self.embedding(token_sequence[:,4,:])\n",
    "        x = x.float()\n",
    "        all_h_t, _ = self.lstm_sentences(x)\n",
    "        h_T4 = all_h_t[:, -1, :]  # Final cell outputs\n",
    "        \n",
    "        sentence_representation_over_time = torch.stack(\n",
    "            (h_T0, h_T1, h_T2, h_T3, h_T4),\n",
    "            dim=1  # Put timesteps on axis 1\n",
    "        )\n",
    "        \n",
    "        goal_and_mins_over_time = torch.stack(\n",
    "            (goal, time),\n",
    "            dim=2  # Feautures as 3rd dimension\n",
    "        )\n",
    "        \n",
    "        x = torch.cat(\n",
    "            (sentence_representation_over_time, goal_and_mins_over_time), \n",
    "            dim=2\n",
    "        )\n",
    "        \n",
    "        del sentence_representation_over_time, goal_and_mins_over_time\n",
    "        \n",
    "        x = x.float()\n",
    "        \n",
    "        all_h_t, _ = self.lstm_features(x)\n",
    "        h_T = all_h_t[:, -1, :]  # Final cell outputs\n",
    "        \n",
    "        x = torch.cat((h_T, event_team_was_home.reshape(-1, 1)), dim=1)\n",
    "        \n",
    "        x = self.fc_1(x)\n",
    "        x = self.relu(x)\n",
    "        x = self.dropout(x)\n",
    "        x = self.fc_2(x)\n",
    "\n",
    "        x = self.sigmoid(x)\n",
    "        \n",
    "        return x"
   ]
  },
  {
   "cell_type": "code",
   "execution_count": 45,
   "metadata": {},
   "outputs": [
    {
     "data": {
      "text/plain": [
       "NextEventIsGoal(\n",
       "  (embedding): Embedding(6469, 100)\n",
       "  (lstm_sentences): LSTM(100, 125, batch_first=True)\n",
       "  (lstm_features): LSTM(127, 300, batch_first=True)\n",
       "  (fc_1): Linear(in_features=301, out_features=125, bias=True)\n",
       "  (fc_2): Linear(in_features=125, out_features=1, bias=True)\n",
       "  (dropout): Dropout(p=0, inplace=False)\n",
       "  (relu): ReLU()\n",
       "  (sigmoid): Sigmoid()\n",
       ")"
      ]
     },
     "execution_count": 45,
     "metadata": {},
     "output_type": "execute_result"
    }
   ],
   "source": [
    "model = NextEventIsGoal()\n",
    "model.to(device)"
   ]
  },
  {
   "cell_type": "code",
   "execution_count": 46,
   "metadata": {},
   "outputs": [
    {
     "data": {
      "text/plain": [
       "<bound method Module.named_parameters of NextEventIsGoal(\n",
       "  (embedding): Embedding(6469, 100)\n",
       "  (lstm_sentences): LSTM(100, 125, batch_first=True)\n",
       "  (lstm_features): LSTM(127, 300, batch_first=True)\n",
       "  (fc_1): Linear(in_features=301, out_features=125, bias=True)\n",
       "  (fc_2): Linear(in_features=125, out_features=1, bias=True)\n",
       "  (dropout): Dropout(p=0, inplace=False)\n",
       "  (relu): ReLU()\n",
       "  (sigmoid): Sigmoid()\n",
       ")>"
      ]
     },
     "execution_count": 46,
     "metadata": {},
     "output_type": "execute_result"
    }
   ],
   "source": [
    "model.named_parameters"
   ]
  },
  {
   "cell_type": "code",
   "execution_count": 47,
   "metadata": {},
   "outputs": [
    {
     "data": {
      "text/plain": [
       "1313076"
      ]
     },
     "execution_count": 47,
     "metadata": {},
     "output_type": "execute_result"
    }
   ],
   "source": [
    "# https://stackoverflow.com/questions/49201236/check-the-total-number-of-parameters-in-a-pytorch-model\n",
    "sum(p.numel() for p in model.parameters() if p.requires_grad)"
   ]
  },
  {
   "cell_type": "code",
   "execution_count": 56,
   "metadata": {},
   "outputs": [],
   "source": [
    "criterion = nn.BCELoss()\n",
    "optimiser = optim.Adam(params=model.parameters(), lr=0.00003)"
   ]
  },
  {
   "cell_type": "markdown",
   "metadata": {},
   "source": [
    "Use subset of training data otherwise takes forever..."
   ]
  },
  {
   "cell_type": "code",
   "execution_count": 49,
   "metadata": {},
   "outputs": [
    {
     "data": {
      "text/plain": [
       "713655"
      ]
     },
     "execution_count": 49,
     "metadata": {},
     "output_type": "execute_result"
    }
   ],
   "source": [
    "len(train_comm)"
   ]
  },
  {
   "cell_type": "code",
   "execution_count": 50,
   "metadata": {},
   "outputs": [],
   "source": [
    "# num_subset_examples = 50000\n",
    "\n",
    "# train_ncd_subset = torch.utils.data.Subset(\n",
    "#     train_comm, \n",
    "#     indices=np.random.choice(\n",
    "#         range(len(train_comm)), \n",
    "#         num_subset_examples\n",
    "#     )\n",
    "# )"
   ]
  },
  {
   "cell_type": "code",
   "execution_count": 52,
   "metadata": {},
   "outputs": [],
   "source": [
    "training_losses = []\n",
    "dev_losses = []\n",
    "training_rocaucs = []\n",
    "dev_rocaucs = []"
   ]
  },
  {
   "cell_type": "code",
   "execution_count": 57,
   "metadata": {},
   "outputs": [
    {
     "name": "stderr",
     "output_type": "stream",
     "text": [
      "100%|██████████| 697/697 [10:59<00:00,  1.06it/s]\n",
      "  0%|          | 0/697 [00:00<?, ?it/s]"
     ]
    },
    {
     "name": "stdout",
     "output_type": "stream",
     "text": [
      "Epoch: 1, train_loss: 0.11463612275034363, dev_loss: 0.11677600040593027, train_rocauc: 0.6654704197944338, dev_rocauc: 0.6629106264227688\n"
     ]
    },
    {
     "name": "stderr",
     "output_type": "stream",
     "text": [
      "100%|██████████| 697/697 [11:03<00:00,  1.05it/s]\n",
      "  0%|          | 0/697 [00:00<?, ?it/s]"
     ]
    },
    {
     "name": "stdout",
     "output_type": "stream",
     "text": [
      "Epoch: 2, train_loss: 0.11455440290724342, dev_loss: 0.11665464654140915, train_rocauc: 0.6711377573092601, dev_rocauc: 0.6685805427172506\n"
     ]
    },
    {
     "name": "stderr",
     "output_type": "stream",
     "text": [
      "100%|██████████| 697/697 [11:04<00:00,  1.05it/s]\n",
      "  0%|          | 0/697 [00:00<?, ?it/s]"
     ]
    },
    {
     "name": "stdout",
     "output_type": "stream",
     "text": [
      "Epoch: 3, train_loss: 0.11416584490116125, dev_loss: 0.11634834312130377, train_rocauc: 0.6746588341076117, dev_rocauc: 0.6710592913356679\n"
     ]
    },
    {
     "name": "stderr",
     "output_type": "stream",
     "text": [
      "100%|██████████| 697/697 [11:04<00:00,  1.05it/s]\n",
      "  0%|          | 0/697 [00:00<?, ?it/s]"
     ]
    },
    {
     "name": "stdout",
     "output_type": "stream",
     "text": [
      "Epoch: 4, train_loss: 0.11344140266587208, dev_loss: 0.11559271357440645, train_rocauc: 0.6763466292360774, dev_rocauc: 0.6705481212191466\n"
     ]
    },
    {
     "name": "stderr",
     "output_type": "stream",
     "text": [
      "100%|██████████| 697/697 [11:06<00:00,  1.05it/s]\n"
     ]
    },
    {
     "name": "stdout",
     "output_type": "stream",
     "text": [
      "Epoch: 5, train_loss: 0.11283330448241852, dev_loss: 0.1149016191076176, train_rocauc: 0.6768540180145345, dev_rocauc: 0.6704882117514024\n",
      "CPU times: user 50min 20s, sys: 23min 18s, total: 1h 13min 39s\n",
      "Wall time: 1h 13min 40s\n"
     ]
    }
   ],
   "source": [
    "%%time\n",
    "for epoch in range(5):\n",
    "    for data in tqdm(DataLoader(train_comm, batch_size=1024, shuffle=True)):\n",
    "        \n",
    "        token_sequence, time, goal, event_team_was_home, y = data\n",
    "        token_sequence, time, goal, event_team_was_home, y = token_sequence.to(device), time.to(device), goal.to(device), event_team_was_home.to(device), y.reshape(-1,1).to(device)\n",
    "\n",
    "        optimiser.zero_grad()  # Set gradients to 0 otherwise will accumulate\n",
    "\n",
    "        y_pred = model(token_sequence, event_team_was_home, goal, time)\n",
    "        loss = criterion(y_pred, y.float())\n",
    "\n",
    "        loss.backward()\n",
    "        optimiser.step()\n",
    "        \n",
    "        del token_sequence, time, goal, event_team_was_home, y\n",
    "    \n",
    "    # Training loss\n",
    "    with torch.no_grad():  # Uses less memory\n",
    "        y_train_list = []\n",
    "        y_pred_list = []\n",
    "        \n",
    "        training_loss_total = 0\n",
    "        for data in DataLoader(train_comm, batch_size=1024):\n",
    "            token_sequence, time, goal, event_team_was_home, y = data\n",
    "            token_sequence, time, goal, event_team_was_home, y = token_sequence.to(device), time.to(device), goal.to(device), event_team_was_home.to(device), y.reshape(-1,1).to(device)\n",
    "\n",
    "            y_pred = model(token_sequence, event_team_was_home, goal, time)\n",
    "\n",
    "            batch_loss_sum = float(\n",
    "                nn.BCELoss(reduction='sum')(y_pred, y.float())\n",
    "            )\n",
    "            training_loss_total += batch_loss_sum\n",
    "            \n",
    "            y_train_list.append(y.detach().cpu().numpy())\n",
    "            y_pred_list.append(y_pred.detach().cpu().numpy())\n",
    "\n",
    "        loss = training_loss_total / len(train_comm)\n",
    "        training_losses.append(loss)\n",
    "        \n",
    "        y_train = np.concatenate(y_train_list, axis=0)\n",
    "        y_pred = np.concatenate(y_pred_list, axis=0)\n",
    "\n",
    "        train_rocauc = roc_auc_score(y_train, y_pred)\n",
    "        training_rocaucs.append(train_rocauc)\n",
    "        \n",
    "    # Dev loss\n",
    "    with torch.no_grad():  # Uses less memory\n",
    "        y_dev_list = []\n",
    "        y_pred_list = []\n",
    "        \n",
    "        dev_loss_total = 0\n",
    "        for data in DataLoader(dev_comm, batch_size=1024):\n",
    "            token_sequence, time, goal, event_team_was_home, y = data\n",
    "            token_sequence, time, goal, event_team_was_home, y = token_sequence.to(device), time.to(device), goal.to(device), event_team_was_home.to(device), y.reshape(-1,1).to(device)\n",
    "\n",
    "            y_pred = model(token_sequence, event_team_was_home, goal, time)\n",
    "\n",
    "            batch_loss_sum = float(\n",
    "                nn.BCELoss(reduction='sum')(y_pred, y.float())\n",
    "            )\n",
    "            dev_loss_total += batch_loss_sum\n",
    "            \n",
    "            y_dev_list.append(y.detach().cpu().numpy())\n",
    "            y_pred_list.append(y_pred.detach().cpu().numpy())\n",
    "\n",
    "        loss = dev_loss_total / len(dev_comm)\n",
    "        dev_losses.append(loss)\n",
    "        \n",
    "        y_dev = np.concatenate(y_dev_list, axis=0)\n",
    "        y_pred = np.concatenate(y_pred_list, axis=0)\n",
    "\n",
    "        dev_rocauc = roc_auc_score(y_dev, y_pred)\n",
    "        dev_rocaucs.append(dev_rocauc)\n",
    "    \n",
    "    print(f'Epoch: {epoch+1}, train_loss: {training_losses[-1]}, dev_loss: {dev_losses[-1]}, train_rocauc: {training_rocaucs[-1]}, dev_rocauc: {dev_rocaucs[-1]}')"
   ]
  },
  {
   "cell_type": "code",
   "execution_count": 58,
   "metadata": {},
   "outputs": [
    {
     "data": {
      "text/plain": [
       "<Figure size 576x432 with 0 Axes>"
      ]
     },
     "metadata": {},
     "output_type": "display_data"
    },
    {
     "data": {
      "image/png": "[encoded data removed]",
      "text/plain": [
       "<Figure size 432x288 with 1 Axes>"
      ]
     },
     "metadata": {
      "needs_background": "light"
     },
     "output_type": "display_data"
    }
   ],
   "source": [
    "plt.figure(figsize=(8, 6))\n",
    "pd.DataFrame({'train': training_losses, 'dev': dev_losses}).plot()\n",
    "plt.show()"
   ]
  },
  {
   "cell_type": "code",
   "execution_count": 59,
   "metadata": {},
   "outputs": [
    {
     "data": {
      "text/plain": [
       "<Figure size 576x432 with 0 Axes>"
      ]
     },
     "metadata": {},
     "output_type": "display_data"
    },
    {
     "data": {
      "image/png": "[encoded data removed]",
      "text/plain": [
       "<Figure size 432x288 with 1 Axes>"
      ]
     },
     "metadata": {
      "needs_background": "light"
     },
     "output_type": "display_data"
    }
   ],
   "source": [
    "plt.figure(figsize=(8, 6))\n",
    "pd.DataFrame({'train': training_rocaucs, 'dev': dev_rocaucs}).plot()\n",
    "plt.show()"
   ]
  },
  {
   "cell_type": "code",
   "execution_count": null,
   "metadata": {},
   "outputs": [],
   "source": []
  },
  {
   "cell_type": "markdown",
   "metadata": {},
   "source": [
    "## Training ROCAUC"
   ]
  },
  {
   "cell_type": "code",
   "execution_count": 60,
   "metadata": {},
   "outputs": [
    {
     "name": "stderr",
     "output_type": "stream",
     "text": [
      "100%|██████████| 349/349 [03:18<00:00,  1.76it/s]\n"
     ]
    }
   ],
   "source": [
    "y_train_list = []\n",
    "y_pred_list = []\n",
    "\n",
    "for data in tqdm(DataLoader(train_comm, batch_size=2048)):\n",
    "    token_sequence, time, goal, event_team_was_home, y = data\n",
    "    token_sequence, time, goal, event_team_was_home, y = token_sequence.to(device), time.to(device), goal.to(device), event_team_was_home.to(device), y.reshape(-1,1).to(device)\n",
    "    \n",
    "    with torch.no_grad():\n",
    "        y_pred = model(token_sequence, event_team_was_home, goal, time)\n",
    "\n",
    "    y_train_list.append(y.detach().cpu().numpy())\n",
    "    y_pred_list.append(y_pred.detach().cpu().numpy())"
   ]
  },
  {
   "cell_type": "code",
   "execution_count": 61,
   "metadata": {},
   "outputs": [],
   "source": [
    "y_train = np.concatenate(y_train_list, axis=0)\n",
    "y_pred = np.concatenate(y_pred_list, axis=0)"
   ]
  },
  {
   "cell_type": "code",
   "execution_count": 62,
   "metadata": {},
   "outputs": [
    {
     "data": {
      "text/plain": [
       "0.6768540180145345"
      ]
     },
     "execution_count": 62,
     "metadata": {},
     "output_type": "execute_result"
    }
   ],
   "source": [
    "roc_auc_score(y_train, y_pred)"
   ]
  },
  {
   "cell_type": "markdown",
   "metadata": {},
   "source": [
    "## Dev ROCAUC"
   ]
  },
  {
   "cell_type": "code",
   "execution_count": 64,
   "metadata": {},
   "outputs": [
    {
     "name": "stderr",
     "output_type": "stream",
     "text": [
      "100%|██████████| 44/44 [00:24<00:00,  1.79it/s]\n"
     ]
    }
   ],
   "source": [
    "y_dev_list = []\n",
    "y_pred_list = []\n",
    "\n",
    "for data in tqdm(DataLoader(dev_comm, batch_size=2048)):\n",
    "    token_sequence, time, goal, event_team_was_home, y = data\n",
    "    token_sequence, time, goal, event_team_was_home, y = token_sequence.to(device), time.to(device), goal.to(device), event_team_was_home.to(device), y.reshape(-1,1).to(device)\n",
    "    \n",
    "    with torch.no_grad():\n",
    "        y_pred = model(token_sequence, event_team_was_home, goal, time)\n",
    "    \n",
    "    y_dev_list.append(y.detach().cpu().numpy())\n",
    "    y_pred_list.append(y_pred.detach().cpu().numpy())"
   ]
  },
  {
   "cell_type": "code",
   "execution_count": 65,
   "metadata": {},
   "outputs": [],
   "source": [
    "y_dev = np.concatenate(y_dev_list, axis=0)\n",
    "y_pred = np.concatenate(y_pred_list, axis=0)"
   ]
  },
  {
   "cell_type": "code",
   "execution_count": 66,
   "metadata": {},
   "outputs": [
    {
     "data": {
      "text/plain": [
       "0.6704882117514024"
      ]
     },
     "execution_count": 66,
     "metadata": {},
     "output_type": "execute_result"
    }
   ],
   "source": [
    "roc_auc_score(y_dev, y_pred)"
   ]
  }
 ],
 "metadata": {
  "kernelspec": {
   "display_name": "Python 3",
   "language": "python",
   "name": "python3"
  },
  "language_info": {
   "codemirror_mode": {
    "name": "ipython",
    "version": 3
   },
   "file_extension": ".py",
   "mimetype": "text/x-python",
   "name": "python",
   "nbconvert_exporter": "python",
   "pygments_lexer": "ipython3",
   "version": "3.6.8"
  }
 },
 "nbformat": 4,
 "nbformat_minor": 4
}
